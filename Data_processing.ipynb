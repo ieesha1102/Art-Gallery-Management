{
  "cells": [
    {
      "cell_type": "markdown",
      "metadata": {
        "id": "view-in-github",
        "colab_type": "text"
      },
      "source": [
        "<a href=\"https://colab.research.google.com/github/ieesha1102/Art-Gallery-Management/blob/main/Data_processing.ipynb\" target=\"_parent\"><img src=\"https://colab.research.google.com/assets/colab-badge.svg\" alt=\"Open In Colab\"/></a>"
      ]
    },
    {
      "cell_type": "code",
      "execution_count": 1,
      "metadata": {
        "id": "NwCg-Vf0a-IW",
        "colab": {
          "base_uri": "https://localhost:8080/"
        },
        "outputId": "0dadb9b0-71da-47a6-f392-73cea7727e7e"
      },
      "outputs": [
        {
          "output_type": "stream",
          "name": "stdout",
          "text": [
            "Looking in indexes: https://pypi.org/simple, https://us-python.pkg.dev/colab-wheels/public/simple/\n",
            "Collecting easyocr\n",
            "  Downloading easyocr-1.6.2-py3-none-any.whl (2.9 MB)\n",
            "\u001b[2K     \u001b[90m━━━━━━━━━━━━━━━━━━━━━━━━━━━━━━━━━━━━━━━━\u001b[0m \u001b[32m2.9/2.9 MB\u001b[0m \u001b[31m19.0 MB/s\u001b[0m eta \u001b[36m0:00:00\u001b[0m\n",
            "\u001b[?25hRequirement already satisfied: torch in /usr/local/lib/python3.9/dist-packages (from easyocr) (2.0.0+cu118)\n",
            "Requirement already satisfied: PyYAML in /usr/local/lib/python3.9/dist-packages (from easyocr) (6.0)\n",
            "Collecting pyclipper\n",
            "  Downloading pyclipper-1.3.0.post4-cp39-cp39-manylinux_2_5_x86_64.manylinux1_x86_64.whl (608 kB)\n",
            "\u001b[2K     \u001b[90m━━━━━━━━━━━━━━━━━━━━━━━━━━━━━━━━━━━━━━\u001b[0m \u001b[32m608.2/608.2 kB\u001b[0m \u001b[31m32.8 MB/s\u001b[0m eta \u001b[36m0:00:00\u001b[0m\n",
            "\u001b[?25hCollecting opencv-python-headless<=4.5.4.60\n",
            "  Downloading opencv_python_headless-4.5.4.60-cp39-cp39-manylinux_2_17_x86_64.manylinux2014_x86_64.whl (47.6 MB)\n",
            "\u001b[2K     \u001b[90m━━━━━━━━━━━━━━━━━━━━━━━━━━━━━━━━━━━━━━━━\u001b[0m \u001b[32m47.6/47.6 MB\u001b[0m \u001b[31m16.0 MB/s\u001b[0m eta \u001b[36m0:00:00\u001b[0m\n",
            "\u001b[?25hRequirement already satisfied: Shapely in /usr/local/lib/python3.9/dist-packages (from easyocr) (2.0.1)\n",
            "Requirement already satisfied: scikit-image in /usr/local/lib/python3.9/dist-packages (from easyocr) (0.19.3)\n",
            "Requirement already satisfied: torchvision>=0.5 in /usr/local/lib/python3.9/dist-packages (from easyocr) (0.15.1+cu118)\n",
            "Requirement already satisfied: numpy in /usr/local/lib/python3.9/dist-packages (from easyocr) (1.22.4)\n",
            "Collecting python-bidi\n",
            "  Downloading python_bidi-0.4.2-py2.py3-none-any.whl (30 kB)\n",
            "Collecting ninja\n",
            "  Downloading ninja-1.11.1-py2.py3-none-manylinux_2_12_x86_64.manylinux2010_x86_64.whl (145 kB)\n",
            "\u001b[2K     \u001b[90m━━━━━━━━━━━━━━━━━━━━━━━━━━━━━━━━━━━━━━━\u001b[0m \u001b[32m146.0/146.0 kB\u001b[0m \u001b[31m7.9 MB/s\u001b[0m eta \u001b[36m0:00:00\u001b[0m\n",
            "\u001b[?25hRequirement already satisfied: scipy in /usr/local/lib/python3.9/dist-packages (from easyocr) (1.10.1)\n",
            "Requirement already satisfied: Pillow in /usr/local/lib/python3.9/dist-packages (from easyocr) (8.4.0)\n",
            "Requirement already satisfied: requests in /usr/local/lib/python3.9/dist-packages (from torchvision>=0.5->easyocr) (2.27.1)\n",
            "Requirement already satisfied: sympy in /usr/local/lib/python3.9/dist-packages (from torch->easyocr) (1.11.1)\n",
            "Requirement already satisfied: typing-extensions in /usr/local/lib/python3.9/dist-packages (from torch->easyocr) (4.5.0)\n",
            "Requirement already satisfied: networkx in /usr/local/lib/python3.9/dist-packages (from torch->easyocr) (3.1)\n",
            "Requirement already satisfied: jinja2 in /usr/local/lib/python3.9/dist-packages (from torch->easyocr) (3.1.2)\n",
            "Requirement already satisfied: triton==2.0.0 in /usr/local/lib/python3.9/dist-packages (from torch->easyocr) (2.0.0)\n",
            "Requirement already satisfied: filelock in /usr/local/lib/python3.9/dist-packages (from torch->easyocr) (3.11.0)\n",
            "Requirement already satisfied: lit in /usr/local/lib/python3.9/dist-packages (from triton==2.0.0->torch->easyocr) (16.0.1)\n",
            "Requirement already satisfied: cmake in /usr/local/lib/python3.9/dist-packages (from triton==2.0.0->torch->easyocr) (3.25.2)\n",
            "Requirement already satisfied: six in /usr/local/lib/python3.9/dist-packages (from python-bidi->easyocr) (1.16.0)\n",
            "Requirement already satisfied: imageio>=2.4.1 in /usr/local/lib/python3.9/dist-packages (from scikit-image->easyocr) (2.25.1)\n",
            "Requirement already satisfied: PyWavelets>=1.1.1 in /usr/local/lib/python3.9/dist-packages (from scikit-image->easyocr) (1.4.1)\n",
            "Requirement already satisfied: packaging>=20.0 in /usr/local/lib/python3.9/dist-packages (from scikit-image->easyocr) (23.1)\n",
            "Requirement already satisfied: tifffile>=2019.7.26 in /usr/local/lib/python3.9/dist-packages (from scikit-image->easyocr) (2023.4.12)\n",
            "Requirement already satisfied: MarkupSafe>=2.0 in /usr/local/lib/python3.9/dist-packages (from jinja2->torch->easyocr) (2.1.2)\n",
            "Requirement already satisfied: urllib3<1.27,>=1.21.1 in /usr/local/lib/python3.9/dist-packages (from requests->torchvision>=0.5->easyocr) (1.26.15)\n",
            "Requirement already satisfied: charset-normalizer~=2.0.0 in /usr/local/lib/python3.9/dist-packages (from requests->torchvision>=0.5->easyocr) (2.0.12)\n",
            "Requirement already satisfied: idna<4,>=2.5 in /usr/local/lib/python3.9/dist-packages (from requests->torchvision>=0.5->easyocr) (3.4)\n",
            "Requirement already satisfied: certifi>=2017.4.17 in /usr/local/lib/python3.9/dist-packages (from requests->torchvision>=0.5->easyocr) (2022.12.7)\n",
            "Requirement already satisfied: mpmath>=0.19 in /usr/local/lib/python3.9/dist-packages (from sympy->torch->easyocr) (1.3.0)\n",
            "Installing collected packages: pyclipper, ninja, python-bidi, opencv-python-headless, easyocr\n",
            "  Attempting uninstall: opencv-python-headless\n",
            "    Found existing installation: opencv-python-headless 4.7.0.72\n",
            "    Uninstalling opencv-python-headless-4.7.0.72:\n",
            "      Successfully uninstalled opencv-python-headless-4.7.0.72\n",
            "Successfully installed easyocr-1.6.2 ninja-1.11.1 opencv-python-headless-4.5.4.60 pyclipper-1.3.0.post4 python-bidi-0.4.2\n"
          ]
        }
      ],
      "source": [
        "!pip install easyocr"
      ]
    },
    {
      "cell_type": "code",
      "execution_count": 2,
      "metadata": {
        "id": "BxzqJXNsq5ZS",
        "colab": {
          "base_uri": "https://localhost:8080/"
        },
        "outputId": "e3cd6500-4fb3-4463-e520-57a48679d37b"
      },
      "outputs": [
        {
          "output_type": "stream",
          "name": "stdout",
          "text": [
            "Looking in indexes: https://pypi.org/simple, https://us-python.pkg.dev/colab-wheels/public/simple/\n",
            "Collecting jellyfish\n",
            "  Downloading jellyfish-0.11.2-cp39-cp39-manylinux_2_17_x86_64.manylinux2014_x86_64.whl (1.2 MB)\n",
            "\u001b[2K     \u001b[90m━━━━━━━━━━━━━━━━━━━━━━━━━━━━━━━━━━━━━━━━\u001b[0m \u001b[32m1.2/1.2 MB\u001b[0m \u001b[31m23.5 MB/s\u001b[0m eta \u001b[36m0:00:00\u001b[0m\n",
            "\u001b[?25hInstalling collected packages: jellyfish\n",
            "Successfully installed jellyfish-0.11.2\n"
          ]
        }
      ],
      "source": [
        "!pip install jellyfish"
      ]
    },
    {
      "cell_type": "code",
      "execution_count": 3,
      "metadata": {
        "id": "i7WWKNKEs2Rc",
        "colab": {
          "base_uri": "https://localhost:8080/"
        },
        "outputId": "1b4fe38c-5fda-448a-c739-de922bd407b5"
      },
      "outputs": [
        {
          "output_type": "stream",
          "name": "stdout",
          "text": [
            "Reading package lists... Done\n",
            "Building dependency tree       \n",
            "Reading state information... Done\n",
            "The following additional packages will be installed:\n",
            "  tesseract-ocr-eng tesseract-ocr-osd\n",
            "The following NEW packages will be installed:\n",
            "  tesseract-ocr tesseract-ocr-eng tesseract-ocr-osd\n",
            "0 upgraded, 3 newly installed, 0 to remove and 24 not upgraded.\n",
            "Need to get 4,850 kB of archives.\n",
            "After this operation, 16.3 MB of additional disk space will be used.\n",
            "Get:1 http://archive.ubuntu.com/ubuntu focal/universe amd64 tesseract-ocr-eng all 1:4.00~git30-7274cfa-1 [1,598 kB]\n",
            "Get:2 http://archive.ubuntu.com/ubuntu focal/universe amd64 tesseract-ocr-osd all 1:4.00~git30-7274cfa-1 [2,990 kB]\n",
            "Get:3 http://archive.ubuntu.com/ubuntu focal/universe amd64 tesseract-ocr amd64 4.1.1-2build2 [262 kB]\n",
            "Fetched 4,850 kB in 2s (2,830 kB/s)\n",
            "debconf: unable to initialize frontend: Dialog\n",
            "debconf: (No usable dialog-like program is installed, so the dialog based frontend cannot be used. at /usr/share/perl5/Debconf/FrontEnd/Dialog.pm line 76, <> line 3.)\n",
            "debconf: falling back to frontend: Readline\n",
            "debconf: unable to initialize frontend: Readline\n",
            "debconf: (This frontend requires a controlling tty.)\n",
            "debconf: falling back to frontend: Teletype\n",
            "dpkg-preconfigure: unable to re-open stdin: \n",
            "Selecting previously unselected package tesseract-ocr-eng.\n",
            "(Reading database ... 122352 files and directories currently installed.)\n",
            "Preparing to unpack .../tesseract-ocr-eng_1%3a4.00~git30-7274cfa-1_all.deb ...\n",
            "Unpacking tesseract-ocr-eng (1:4.00~git30-7274cfa-1) ...\n",
            "Selecting previously unselected package tesseract-ocr-osd.\n",
            "Preparing to unpack .../tesseract-ocr-osd_1%3a4.00~git30-7274cfa-1_all.deb ...\n",
            "Unpacking tesseract-ocr-osd (1:4.00~git30-7274cfa-1) ...\n",
            "Selecting previously unselected package tesseract-ocr.\n",
            "Preparing to unpack .../tesseract-ocr_4.1.1-2build2_amd64.deb ...\n",
            "Unpacking tesseract-ocr (4.1.1-2build2) ...\n",
            "Setting up tesseract-ocr-eng (1:4.00~git30-7274cfa-1) ...\n",
            "Setting up tesseract-ocr-osd (1:4.00~git30-7274cfa-1) ...\n",
            "Setting up tesseract-ocr (4.1.1-2build2) ...\n",
            "Processing triggers for man-db (2.9.1-1) ...\n"
          ]
        }
      ],
      "source": [
        "!sudo apt install tesseract-ocr"
      ]
    },
    {
      "cell_type": "code",
      "execution_count": 4,
      "metadata": {
        "id": "VdZYSVUJs5VS",
        "colab": {
          "base_uri": "https://localhost:8080/"
        },
        "outputId": "9fa19e78-9dd4-4a5c-8c86-8d25bca9cb05"
      },
      "outputs": [
        {
          "output_type": "stream",
          "name": "stdout",
          "text": [
            "Looking in indexes: https://pypi.org/simple, https://us-python.pkg.dev/colab-wheels/public/simple/\n",
            "Collecting pytesseract\n",
            "  Downloading pytesseract-0.3.10-py3-none-any.whl (14 kB)\n",
            "Requirement already satisfied: Pillow>=8.0.0 in /usr/local/lib/python3.9/dist-packages (from pytesseract) (8.4.0)\n",
            "Requirement already satisfied: packaging>=21.3 in /usr/local/lib/python3.9/dist-packages (from pytesseract) (23.1)\n",
            "Installing collected packages: pytesseract\n",
            "Successfully installed pytesseract-0.3.10\n"
          ]
        }
      ],
      "source": [
        "!pip install pytesseract"
      ]
    },
    {
      "cell_type": "code",
      "execution_count": 5,
      "metadata": {
        "id": "ARQbKhuiWSg2"
      },
      "outputs": [],
      "source": [
        "from google.colab import files\n",
        "import pandas as pd\n",
        "import numpy as np\n",
        "import sys\n",
        "import warnings\n",
        "import requests\n",
        "from PIL import Image\n",
        "import cv2\n",
        "from google.colab.patches import cv2_imshow\n",
        "import easyocr\n",
        "import nltk\n",
        "import jellyfish\n",
        "import pytesseract"
      ]
    },
    {
      "cell_type": "code",
      "execution_count": 6,
      "metadata": {
        "id": "g4ky7Yq67qIS"
      },
      "outputs": [],
      "source": [
        "warnings.filterwarnings('ignore')"
      ]
    },
    {
      "cell_type": "code",
      "execution_count": 7,
      "metadata": {
        "id": "yHndatBYagtK"
      },
      "outputs": [],
      "source": [
        "def open_image(url):\n",
        "  #https://drive.google.com/open?id=1ZdOD8MHMct93qywCiK-4Dbc2X_zRWrXq\n",
        "  #modify link\n",
        "  marker = url.find('id=') + 3\n",
        "  img_url = 'https://docs.google.com/uc?export=download&id='+ url[ marker :  ]\n",
        "  print(url[ marker :  ])\n",
        "  print(img_url)\n",
        "  #open image\n",
        "  img = Image.open(requests.get(img_url, stream = True).raw)\n",
        "  #convert image to an array of bits\n",
        "  numpy_image=np.array(img) \n",
        "  #load image to cv2 so that it's easy to process\n",
        "  img = cv2.cvtColor(numpy_image, cv2.COLOR_BGR2RGB)\n",
        "  #store height, weight and number of channels\n",
        "  (h, w, c) = img.shape[:3]\n",
        "  print(\"width: {} pixels\".format(w))\n",
        "  print(\"height: {}  pixels\".format(h))\n",
        "  print(\"channels: {}\".format(c))\n",
        "  #open image on screen\n",
        "  return img"
      ]
    },
    {
      "cell_type": "code",
      "execution_count": 8,
      "metadata": {
        "id": "RLMKIxN8NipT"
      },
      "outputs": [],
      "source": [
        "def rotate_image(img):\n",
        "  rotated_image = np.rot90(img, k=1)\n",
        "  return rotated_image"
      ]
    },
    {
      "cell_type": "code",
      "execution_count": 9,
      "metadata": {
        "id": "s5aeM0g_bX77"
      },
      "outputs": [],
      "source": [
        "def crop_image(img):\n",
        "  #perform precropping\n",
        "  img = img[30:img.shape[0]-30, 30:img.shape[1]-30]\n",
        "  #convert image from color to grayscale\n",
        "  gray = cv2.cvtColor(img, cv2.COLOR_BGR2GRAY)\n",
        "  #gray-scale to black&white\n",
        "  gray = 255*(gray < 50).astype(np.uint8)\n",
        "  gray = cv2.morphologyEx(gray, cv2.MORPH_OPEN, np.ones( (2, 2), dtype=np.uint8)) \n",
        "  #find non-zero ie not white bits\n",
        "  coords = cv2.findNonZero(gray) \n",
        "  #get the bounding rectangle\n",
        "  x, y, w, h = cv2.boundingRect(coords)\n",
        "  #crop image\n",
        "  rect = img[y:y+h, x:x+w]\n",
        "  #show images\n",
        "  return rect"
      ]
    },
    {
      "cell_type": "code",
      "execution_count": 10,
      "metadata": {
        "id": "fuD8KEvPhoCu"
      },
      "outputs": [],
      "source": [
        "def detect_text(img):\n",
        "  reader = easyocr.Reader(['en'])\n",
        "  result = reader.readtext(img, detail = 0)\n",
        "  res = ' '.join(result)\n",
        "  return res"
      ]
    },
    {
      "cell_type": "code",
      "execution_count": 11,
      "metadata": {
        "id": "WFOzz-yIi7-w"
      },
      "outputs": [],
      "source": [
        "def calc_similarity(text):\n",
        "  # Jaro-Winkler distance metric\n",
        "  sentence = \"Well begun is half done\"\n",
        "  text = \"\".join(text.split())\n",
        "  sentence = \"\".join(sentence.split())\n",
        "  jw_distance = jellyfish.jaro_winkler(text, sentence)\n",
        "  return jw_distance"
      ]
    },
    {
      "cell_type": "code",
      "execution_count": 12,
      "metadata": {
        "id": "nPh3-4vKcrbR"
      },
      "outputs": [],
      "source": [
        "def calc_azimuth_angle(img):\n",
        "  gray = cv2.cvtColor(img, cv2.COLOR_BGR2GRAY)\n",
        "  # Apply binary threshold to the image\n",
        "  _, thresh = cv2.threshold(gray, 0, 255, cv2.THRESH_BINARY_INV+cv2.THRESH_OTSU)\n",
        "  # Apply morphological opening to remove noise\n",
        "  kernel = np.ones((3,3), np.uint8)\n",
        "  opening = cv2.morphologyEx(thresh, cv2.MORPH_OPEN, kernel)\n",
        "  # Detect lines using the Hough transform\n",
        "  lines = cv2.HoughLines(opening, rho=1, theta=np.pi/180, threshold=100)\n",
        "  # Calculate the orientation of each line\n",
        "  orientations = []\n",
        "  for line in lines:\n",
        "    rho, theta = line[0]\n",
        "    slope = np.tan(theta)\n",
        "    orientation = np.arctan(slope) * 180 / np.pi\n",
        "    orientations.append(orientation)\n",
        "  # Find the dominant orientation\n",
        "  bins = np.arange(-90, 91, 5)\n",
        "  hist, _ = np.histogram(orientations, bins=bins)\n",
        "  dominant_orientation = bins[np.argmax(hist)]\n",
        "  # Calculate the azimuth angle\n",
        "  azimuth_angle = 90 - dominant_orientation\n",
        "  if azimuth_angle < 0:\n",
        "    azimuth_angle += 180\n",
        "  return azimuth_angle"
      ]
    },
    {
      "cell_type": "code",
      "execution_count": 13,
      "metadata": {
        "id": "SeJzQ3rydwAh"
      },
      "outputs": [],
      "source": [
        "def calc_baseline(img):\n",
        "  # Convert the image to grayscale\n",
        "  gray = cv2.cvtColor(img, cv2.COLOR_BGR2GRAY)\n",
        "  # Apply a binary threshold to the image\n",
        "  _, thresh = cv2.threshold(gray, 127, 255, cv2.THRESH_BINARY)\n",
        "  # Apply the Hough Transform to detect lines in the image\n",
        "  lines = cv2.HoughLinesP(thresh, rho=1, theta=np.pi/180, threshold=100, minLineLength=100, maxLineGap=10)\n",
        "  # Calculate the slope of the detected lines\n",
        "  slopes = []\n",
        "  for line in lines:\n",
        "      x1, y1, x2, y2 = line[0]\n",
        "      if x2 - x1 == 0:\n",
        "          slope = 1000000 # Avoid divide by zero error\n",
        "      else:\n",
        "          slope = (y2 - y1) / (x2 - x1)\n",
        "      slopes.append(slope)\n",
        "  # Calculate the average slope of the baseline\n",
        "  avg_slope = np.mean(slopes)\n",
        "  # Calculate the angle of the baseline\n",
        "  angle = np.arctan(avg_slope) * 180 / np.pi\n",
        "  # Print the angle of the baseline\n",
        "  return angle"
      ]
    },
    {
      "cell_type": "code",
      "execution_count": 14,
      "metadata": {
        "id": "lMIxi5HdsWDs"
      },
      "outputs": [],
      "source": [
        "def calc_slant(img):\n",
        "  # Convert the image to grayscale\n",
        "  gray = cv2.cvtColor(img, cv2.COLOR_BGR2GRAY)\n",
        "  # Threshold the image to get a binary image\n",
        "  _, binary_img = cv2.threshold(gray, 0, 255, cv2.THRESH_BINARY_INV + cv2.THRESH_OTSU)\n",
        "  # Apply edge detection to the binary image\n",
        "  edges = cv2.Canny(binary_img, 50, 150, apertureSize=3)\n",
        "  # Apply the Hough transform to detect lines in the image\n",
        "  lines = cv2.HoughLines(edges, rho=1, theta=np.pi/180, threshold=100)\n",
        "  # Calculate the average angle of the detected lines\n",
        "  angle_sum = 0\n",
        "  num_lines = len(lines)\n",
        "  for i in range(num_lines):\n",
        "      rho, theta = lines[i][0]\n",
        "      angle_sum += theta\n",
        "  if num_lines > 0:\n",
        "      avg_angle = angle_sum/num_lines\n",
        "  else:\n",
        "      avg_angle = 0\n",
        "  # Calculate the slant angle of letters by subtracting the average angle from 90 degrees\n",
        "  slant_angle = np.rad2deg(np.pi/2 - avg_angle)\n",
        "  return slant_angle"
      ]
    },
    {
      "cell_type": "code",
      "execution_count": 15,
      "metadata": {
        "id": "-3Lf7M5Xypug"
      },
      "outputs": [],
      "source": [
        "def calc_space_words(img):\n",
        "  grayImage = cv2.cvtColor(img, cv2.COLOR_BGR2GRAY)\n",
        "  (thresh, im_bw) = cv2.threshold(grayImage, 128, 255, cv2.THRESH_BINARY | cv2.THRESH_OTSU)\n",
        "  thresh = 127\n",
        "  im_bw = cv2.threshold(grayImage, thresh, 255, cv2.THRESH_BINARY)[1]\n",
        "  hieght = im_bw.shape[0]\n",
        "  width = im_bw.shape[1]\n",
        "  black = 0\n",
        "  white = 0\n",
        "  #count black and white pixels\n",
        "  for j in range(0,width):\n",
        "    if(im_bw[round(hieght/2)][j] == 0):\n",
        "        white = white+1\n",
        "    else:\n",
        "        black = black+1\n",
        "  return white/4"
      ]
    },
    {
      "cell_type": "code",
      "execution_count": 16,
      "metadata": {
        "id": "0pHLobeS7XeB"
      },
      "outputs": [],
      "source": [
        "#1 if dot is above i else 0\n",
        "def i_dot_position(img):\n",
        "  pos = 0\n",
        "  # Convert the image to grayscale\n",
        "  gray = cv2.cvtColor(img, cv2.COLOR_BGR2GRAY)\n",
        "  # Apply thresholding to the grayscale image\n",
        "  _, thresh = cv2.threshold(gray, 0, 255, cv2.THRESH_BINARY_INV + cv2.THRESH_OTSU)\n",
        "  # Erode the image to remove noise and smoothen it\n",
        "  kernel = cv2.getStructuringElement(cv2.MORPH_RECT, (3, 3))\n",
        "  eroded = cv2.erode(thresh, kernel, iterations=1)\n",
        "  # Find contours in the eroded image\n",
        "  contours, _ = cv2.findContours(eroded, cv2.RETR_EXTERNAL, cv2.CHAIN_APPROX_SIMPLE)\n",
        "  # Iterate through the contours and get the bounding boxes\n",
        "  for contour in contours:\n",
        "    x, y, w, h = cv2.boundingRect(contour)\n",
        "    # Check if the bounding box is above the letter \"i\" at the 9th position\n",
        "    if 8 < x < 10 and h < w:\n",
        "        pos = 1\n",
        "        break\n",
        "  return pos"
      ]
    },
    {
      "cell_type": "code",
      "execution_count": 17,
      "metadata": {
        "id": "lb51C_Sqss_H"
      },
      "outputs": [],
      "source": [
        "#1-loop present 0-loop not present\n",
        "def detect_loop(img):\n",
        "  gray = cv2.cvtColor(img, cv2.COLOR_BGR2GRAY)\n",
        "  gray = 255*(gray < 50).astype(np.uint8)\n",
        "  gray = cv2.morphologyEx(gray, cv2.MORPH_OPEN, np.ones( (2, 2), dtype=np.uint8))\n",
        "  coords = cv2.findNonZero(gray)\n",
        "  x, y, w, h = cv2.boundingRect(coords)\n",
        "  rect = img[y:y+h, x:x+w]\n",
        "  image = cv2.medianBlur(rect,5)\n",
        "  # Load the image and convert to grayscale\n",
        "  gray = cv2.cvtColor(image, cv2.COLOR_BGR2GRAY)\n",
        "  # Apply thresholding to convert to binary image\n",
        "  thresh = cv2.threshold(gray, 0, 255, cv2.THRESH_BINARY_INV | cv2.THRESH_OTSU)[1]\n",
        "  # Use Tesseract OCR to extract text from the image\n",
        "  text = pytesseract.image_to_string(thresh)\n",
        "  index = text.find('g')\n",
        "  # Extract the letter 'a' from the original image\n",
        "  boxes = pytesseract.image_to_boxes(image)\n",
        "  for b in boxes.splitlines():\n",
        "    b = b.split(' ')\n",
        "    x, y, w, h = int(b[1]), int(b[2]), int(b[3]), int(b[4])\n",
        "    cv2.rectangle(image, (x, image.shape[0] - y), (w, image.shape[0] - h), (0, 0, 255), 2)\n",
        "    if b[0]=='g':\n",
        "        #x, y, w, h = int(b[1]), int(b[2]), int(b[3]), int(b[4])\n",
        "        letter_image = image[int(y):int(h), int(x):int(w)]\n",
        "        break\n",
        "  letter_image = image[int(h*0.8):int(h), int(x):int(w)]\n",
        "  # Convert the lower region of the letter to grayscale\n",
        "  gray = cv2.cvtColor(letter_image, cv2.COLOR_BGR2GRAY)\n",
        "  # Apply thresholding to isolate the shape of the lower region of the letter\n",
        "  thresh = cv2.threshold(gray, 0, 255, cv2.THRESH_BINARY_INV | cv2.THRESH_OTSU)[1]\n",
        "  # Apply edge detection to highlight the contours of the lower region of the letter\n",
        "  edges = cv2.Canny(thresh, 100, 200)\n",
        "  # Use contour detection to identify any loops in the lower region of the letter\n",
        "  contours, hierarchy = cv2.findContours(thresh, cv2.RETR_TREE, cv2.CHAIN_APPROX_SIMPLE)\n",
        "  # Draw the contours on the original image\n",
        "  cv2.drawContours(letter_image, contours, -1, (0, 0, 255), 2)\n",
        "  has_loop = False\n",
        "  for contour in contours:\n",
        "    x, y, w, h = cv2.boundingRect(contour)\n",
        "    if w < h:\n",
        "        has_loop = True\n",
        "        break\n",
        "  if has_loop:\n",
        "    return 1\n",
        "  else:\n",
        "    return 0"
      ]
    },
    {
      "cell_type": "code",
      "execution_count": 18,
      "metadata": {
        "id": "uAwObq7Ou0g2"
      },
      "outputs": [],
      "source": [
        "def calc_size_letters(img):\n",
        "  # Convert the image to grayscale\n",
        "  gray = cv2.cvtColor(img, cv2.COLOR_BGR2GRAY)\n",
        "  # Apply a binary threshold to the image\n",
        "  _, thresh = cv2.threshold(gray, 127, 255, cv2.THRESH_BINARY)\n",
        "  # Calculate the size of the letters\n",
        "  sizes = []\n",
        "  contours, hierarchy = cv2.findContours(thresh, cv2.RETR_TREE, cv2.CHAIN_APPROX_SIMPLE)\n",
        "  for cnt in contours:\n",
        "      x, y, w, h = cv2.boundingRect(cnt)\n",
        "      size = w * h\n",
        "      sizes.append(size)\n",
        "  # Calculate the average size of the letters\n",
        "  average_size = np.mean(sizes)\n",
        "  return average_size"
      ]
    },
    {
      "cell_type": "code",
      "execution_count": 19,
      "metadata": {
        "id": "6qApNlQWyV3C"
      },
      "outputs": [],
      "source": [
        "def calc_zone_1(img):\n",
        "  # Convert the image to grayscale\n",
        "  gray = cv2.cvtColor(img, cv2.COLOR_BGR2GRAY)\n",
        "  # Threshold the image\n",
        "  ret, thresh = cv2.threshold(gray, 0, 255, cv2.THRESH_BINARY_INV+cv2.THRESH_OTSU)\n",
        "  # Find contours in the image\n",
        "  contours, hierarchy = cv2.findContours(thresh, cv2.RETR_TREE, cv2.CHAIN_APPROX_SIMPLE)\n",
        "  # Get the bounding box for each contour\n",
        "  boxes = [cv2.boundingRect(cnt) for cnt in contours]\n",
        "  # Get the three zones by dividing the image horizontally into three equal parts\n",
        "  height, width = img.shape[:2]\n",
        "  zone_height = height // 3\n",
        "  zone1 = img[0:zone_height, 0:width]\n",
        "  # Compute the average pixel value for each zone\n",
        "  zone1_avg = np.mean(zone1)\n",
        "  return zone1_avg"
      ]
    },
    {
      "cell_type": "code",
      "execution_count": 20,
      "metadata": {
        "id": "rlIsvaRCyqfK"
      },
      "outputs": [],
      "source": [
        "def calc_zone_2(img):\n",
        "  # Convert the image to grayscale\n",
        "  gray = cv2.cvtColor(img, cv2.COLOR_BGR2GRAY)\n",
        "  # Threshold the image\n",
        "  ret, thresh = cv2.threshold(gray, 0, 255, cv2.THRESH_BINARY_INV+cv2.THRESH_OTSU)\n",
        "  # Find contours in the image\n",
        "  contours, hierarchy = cv2.findContours(thresh, cv2.RETR_TREE, cv2.CHAIN_APPROX_SIMPLE)\n",
        "  # Get the bounding box for each contour\n",
        "  boxes = [cv2.boundingRect(cnt) for cnt in contours]\n",
        "  # Get the three zones by dividing the image horizontally into three equal parts\n",
        "  height, width = img.shape[:2]\n",
        "  zone_height = height // 3\n",
        "  zone2 = img[zone_height:zone_height*2, 0:width]\n",
        "  # Compute the average pixel value for each zone\n",
        "  zone2_avg = np.mean(zone2)\n",
        "  return zone2_avg"
      ]
    },
    {
      "cell_type": "code",
      "execution_count": 21,
      "metadata": {
        "id": "LJkiRXplythO"
      },
      "outputs": [],
      "source": [
        "def calc_zone_3(img):\n",
        "  # Convert the image to grayscale\n",
        "  gray = cv2.cvtColor(img, cv2.COLOR_BGR2GRAY)\n",
        "  # Threshold the image\n",
        "  ret, thresh = cv2.threshold(gray, 0, 255, cv2.THRESH_BINARY_INV+cv2.THRESH_OTSU)\n",
        "  # Find contours in the image\n",
        "  contours, hierarchy = cv2.findContours(thresh, cv2.RETR_TREE, cv2.CHAIN_APPROX_SIMPLE)\n",
        "  # Get the bounding box for each contour\n",
        "  boxes = [cv2.boundingRect(cnt) for cnt in contours]\n",
        "  # Get the three zones by dividing the image horizontally into three equal parts\n",
        "  height, width = img.shape[:2]\n",
        "  zone_height = height // 3\n",
        "  zone3 = img[zone_height*2:height, 0:width]\n",
        "  # Compute the average pixel value for each zone\n",
        "  zone3_avg = np.mean(zone3)\n",
        "  return zone3_avg"
      ]
    },
    {
      "cell_type": "code",
      "execution_count": 22,
      "metadata": {
        "id": "xwqTXC_Y1Nek"
      },
      "outputs": [],
      "source": [
        "def calc_loop_sharpness(img):\n",
        "  gray = cv2.cvtColor(img, cv2.COLOR_BGR2GRAY)\n",
        "  gray = 255*(gray < 50).astype(np.uint8)\n",
        "  gray = cv2.morphologyEx(gray, cv2.MORPH_OPEN, np.ones( (2, 2), dtype=np.uint8))\n",
        "  coords = cv2.findNonZero(gray)\n",
        "  x, y, w, h = cv2.boundingRect(coords)\n",
        "  rect = img[y:y+h, x:x+w]\n",
        "  image = cv2.medianBlur(rect,5)\n",
        "  # Load the image and convert to grayscale\n",
        "  gray = cv2.cvtColor(image, cv2.COLOR_BGR2GRAY)\n",
        "  # Apply thresholding to convert to binary image\n",
        "  thresh = cv2.threshold(gray, 0, 255, cv2.THRESH_BINARY_INV | cv2.THRESH_OTSU)[1]\n",
        "  # Use Tesseract OCR to extract text from the image\n",
        "  text = pytesseract.image_to_string(thresh)\n",
        "  index = text.find('g')\n",
        "  # Extract the letter 'a' from the original image\n",
        "  boxes = pytesseract.image_to_boxes(image)\n",
        "  for b in boxes.splitlines():\n",
        "      b = b.split(' ')\n",
        "      x, y, w, h = int(b[1]), int(b[2]), int(b[3]), int(b[4])\n",
        "      cv2.rectangle(image, (x, image.shape[0] - y), (w, image.shape[0] - h), (0, 0, 255), 2)\n",
        "      if b[0]=='g':\n",
        "          #x, y, w, h = int(b[1]), int(b[2]), int(b[3]), int(b[4])\n",
        "          letter_image = image[int(y):int(h), int(x):int(w)]\n",
        "          break\n",
        "  letter_image = image[int(h*0.8):int(h), int(x):int(w)]\n",
        "  # Convert the lower region of the letter to grayscale\n",
        "  gray = cv2.cvtColor(letter_image, cv2.COLOR_BGR2GRAY)\n",
        "  # Apply thresholding to isolate the shape of the lower region of the letter\n",
        "  thresh = cv2.threshold(gray, 0, 255, cv2.THRESH_BINARY_INV | cv2.THRESH_OTSU)[1]\n",
        "  # Apply edge detection to highlight the contours of the lower region of the letter\n",
        "  edges = cv2.Canny(thresh, 100, 200)\n",
        "  # Use contour detection to identify any loops in the lower region of the letter\n",
        "  contours, hierarchy = cv2.findContours(thresh, cv2.RETR_TREE, cv2.CHAIN_APPROX_SIMPLE)\n",
        "  # Draw the contours on the original image\n",
        "  cv2.drawContours(letter_image, contours, -1, (0, 0, 255), 2)\n",
        "  has_loop = False\n",
        "  for contour in contours:\n",
        "      x, y, w, h = cv2.boundingRect(contour)\n",
        "      if w < h:\n",
        "          has_loop = True\n",
        "          break\n",
        "  if has_loop:\n",
        "      sharpness_values = []\n",
        "      for contour in contours:\n",
        "          # Compute the gradient magnitude of the image in the vicinity of the contour\n",
        "          x, y, w, h = cv2.boundingRect(contour)\n",
        "          gradient = cv2.Sobel(gray[y:y + h, x:x + w], cv2.CV_64F, 1, 1, ksize=3)\n",
        "          gradient_mag = np.sqrt(gradient ** 2)\n",
        "          # Measure the local contrast of the gradient\n",
        "          sharpness = cv2.meanStdDev(gradient_mag)[1][0][0]\n",
        "          sharpness_values.append(sharpness)\n",
        "      # Calculate the average loop sharpness value\n",
        "      if len(sharpness_values) > 0:\n",
        "          avg_sharpness = sum(sharpness_values) / len(sharpness_values)\n",
        "          return avg_sharpness\n",
        "  else:\n",
        "      return 0"
      ]
    },
    {
      "cell_type": "code",
      "execution_count": 23,
      "metadata": {
        "id": "EIccPH96aw-M"
      },
      "outputs": [],
      "source": [
        "def characteristics(url):\n",
        "  img = open_image(url)\n",
        "  print(\"Orignal Image:\")\n",
        "  # cv2_imshow(img)\n",
        "  baseline = calc_baseline(img)\n",
        "  print(\"Baseline:\",baseline)\n",
        "  if baseline > 80:\n",
        "    img = rotate_image(img)\n",
        "    # cv2_imshow(img)\n",
        "  text = detect_text(img)\n",
        "  print(\"Text:\", text)\n",
        "  similarity = calc_similarity(text)\n",
        "  print(\"Similarity:\",similarity)\n",
        "  crop = crop_image(img)\n",
        "  print(\"Cropped image\")\n",
        "  # cv2_imshow(crop)\n",
        "  slant = calc_slant(crop)\n",
        "  print(\"Slant:\",slant)\n",
        "  azimuth_angle = calc_azimuth_angle(crop)\n",
        "  print(\"Azimuth angle:\",azimuth_angle)\n",
        "  space_words = calc_space_words(crop)\n",
        "  print(\"Space between words:\", space_words)\n",
        "  i_dot = i_dot_position(crop)\n",
        "  print(\"i-dot position:\",i_dot)\n",
        "  loop = detect_loop(crop)\n",
        "  print(\"Loop:\",loop)\n",
        "  size_letters = calc_size_letters(crop)\n",
        "  print(\"Average size of letters:\",size_letters)\n",
        "  zone_1 = calc_zone_1(crop)\n",
        "  print(\"Zone 1:\",zone_1)\n",
        "  zone_2 = calc_zone_2(crop)\n",
        "  print(\"Zone 2:\",zone_2)\n",
        "  zone_3 = calc_zone_3(crop)\n",
        "  print(\"Zone 3:\", zone_3)\n",
        "  loop_sharpness = calc_loop_sharpness(crop)\n",
        "  print(\"Loop Sharpness:\", loop_sharpness)"
      ]
    },
    {
      "cell_type": "code",
      "execution_count": 24,
      "metadata": {
        "colab": {
          "base_uri": "https://localhost:8080/"
        },
        "id": "LwjCTyKt-YJg",
        "outputId": "1bbc6742-b89e-4174-8d32-c6c00809aed6"
      },
      "outputs": [
        {
          "output_type": "stream",
          "name": "stdout",
          "text": [
            "1geOe70z-7y_Ji5ZABvENdpWf-chnciYD\n",
            "https://docs.google.com/uc?export=download&id=1geOe70z-7y_Ji5ZABvENdpWf-chnciYD\n",
            "width: 3468 pixels\n",
            "height: 4624  pixels\n",
            "channels: 3\n",
            "Orignal Image:\n"
          ]
        },
        {
          "output_type": "stream",
          "name": "stderr",
          "text": [
            "WARNING:easyocr.easyocr:CUDA not available - defaulting to CPU. Note: This module is much faster with a GPU.\n",
            "WARNING:easyocr.easyocr:Downloading detection model, please wait. This may take several minutes depending upon your network connection.\n"
          ]
        },
        {
          "output_type": "stream",
          "name": "stdout",
          "text": [
            "Baseline: 89.99915578230033\n",
            "Progress: |██████████████████████████████████████████████████| 100.0% Complete"
          ]
        },
        {
          "output_type": "stream",
          "name": "stderr",
          "text": [
            "WARNING:easyocr.easyocr:Downloading recognition model, please wait. This may take several minutes depending upon your network connection.\n"
          ]
        },
        {
          "output_type": "stream",
          "name": "stdout",
          "text": [
            "Progress: |██████████████████████████████████████████████████| 100.0% CompleteText: iS kay dcno Lezun wel\n",
            "Similarity: 0.4505381099808344\n",
            "Cropped image\n",
            "Slant: 9.949999707626079\n",
            "Azimuth angle: 45\n",
            "Space between words: 271.0\n",
            "i-dot position: 0\n",
            "Loop: 1\n",
            "Average size of letters: 81.82716413508332\n",
            "Zone 1: 130.23519242730194\n",
            "Zone 2: 117.68563334440951\n",
            "Zone 3: 118.20190751552501\n",
            "Loop Sharpness: 3.6739028040143387\n"
          ]
        }
      ],
      "source": [
        "characteristics('https://drive.google.com/open?id=1geOe70z-7y_Ji5ZABvENdpWf-chnciYD')"
      ]
    },
    {
      "cell_type": "code",
      "execution_count": 25,
      "metadata": {
        "id": "qtj5NFTQ6QQG",
        "colab": {
          "base_uri": "https://localhost:8080/",
          "height": 74
        },
        "outputId": "82d62b80-81f2-48b1-a78f-dc8be018e2dd"
      },
      "outputs": [
        {
          "output_type": "display_data",
          "data": {
            "text/plain": [
              "<IPython.core.display.HTML object>"
            ],
            "text/html": [
              "\n",
              "     <input type=\"file\" id=\"files-6642b062-41ad-4fa8-b5d1-e06c779fe69b\" name=\"files[]\" multiple disabled\n",
              "        style=\"border:none\" />\n",
              "     <output id=\"result-6642b062-41ad-4fa8-b5d1-e06c779fe69b\">\n",
              "      Upload widget is only available when the cell has been executed in the\n",
              "      current browser session. Please rerun this cell to enable.\n",
              "      </output>\n",
              "      <script>// Copyright 2017 Google LLC\n",
              "//\n",
              "// Licensed under the Apache License, Version 2.0 (the \"License\");\n",
              "// you may not use this file except in compliance with the License.\n",
              "// You may obtain a copy of the License at\n",
              "//\n",
              "//      http://www.apache.org/licenses/LICENSE-2.0\n",
              "//\n",
              "// Unless required by applicable law or agreed to in writing, software\n",
              "// distributed under the License is distributed on an \"AS IS\" BASIS,\n",
              "// WITHOUT WARRANTIES OR CONDITIONS OF ANY KIND, either express or implied.\n",
              "// See the License for the specific language governing permissions and\n",
              "// limitations under the License.\n",
              "\n",
              "/**\n",
              " * @fileoverview Helpers for google.colab Python module.\n",
              " */\n",
              "(function(scope) {\n",
              "function span(text, styleAttributes = {}) {\n",
              "  const element = document.createElement('span');\n",
              "  element.textContent = text;\n",
              "  for (const key of Object.keys(styleAttributes)) {\n",
              "    element.style[key] = styleAttributes[key];\n",
              "  }\n",
              "  return element;\n",
              "}\n",
              "\n",
              "// Max number of bytes which will be uploaded at a time.\n",
              "const MAX_PAYLOAD_SIZE = 100 * 1024;\n",
              "\n",
              "function _uploadFiles(inputId, outputId) {\n",
              "  const steps = uploadFilesStep(inputId, outputId);\n",
              "  const outputElement = document.getElementById(outputId);\n",
              "  // Cache steps on the outputElement to make it available for the next call\n",
              "  // to uploadFilesContinue from Python.\n",
              "  outputElement.steps = steps;\n",
              "\n",
              "  return _uploadFilesContinue(outputId);\n",
              "}\n",
              "\n",
              "// This is roughly an async generator (not supported in the browser yet),\n",
              "// where there are multiple asynchronous steps and the Python side is going\n",
              "// to poll for completion of each step.\n",
              "// This uses a Promise to block the python side on completion of each step,\n",
              "// then passes the result of the previous step as the input to the next step.\n",
              "function _uploadFilesContinue(outputId) {\n",
              "  const outputElement = document.getElementById(outputId);\n",
              "  const steps = outputElement.steps;\n",
              "\n",
              "  const next = steps.next(outputElement.lastPromiseValue);\n",
              "  return Promise.resolve(next.value.promise).then((value) => {\n",
              "    // Cache the last promise value to make it available to the next\n",
              "    // step of the generator.\n",
              "    outputElement.lastPromiseValue = value;\n",
              "    return next.value.response;\n",
              "  });\n",
              "}\n",
              "\n",
              "/**\n",
              " * Generator function which is called between each async step of the upload\n",
              " * process.\n",
              " * @param {string} inputId Element ID of the input file picker element.\n",
              " * @param {string} outputId Element ID of the output display.\n",
              " * @return {!Iterable<!Object>} Iterable of next steps.\n",
              " */\n",
              "function* uploadFilesStep(inputId, outputId) {\n",
              "  const inputElement = document.getElementById(inputId);\n",
              "  inputElement.disabled = false;\n",
              "\n",
              "  const outputElement = document.getElementById(outputId);\n",
              "  outputElement.innerHTML = '';\n",
              "\n",
              "  const pickedPromise = new Promise((resolve) => {\n",
              "    inputElement.addEventListener('change', (e) => {\n",
              "      resolve(e.target.files);\n",
              "    });\n",
              "  });\n",
              "\n",
              "  const cancel = document.createElement('button');\n",
              "  inputElement.parentElement.appendChild(cancel);\n",
              "  cancel.textContent = 'Cancel upload';\n",
              "  const cancelPromise = new Promise((resolve) => {\n",
              "    cancel.onclick = () => {\n",
              "      resolve(null);\n",
              "    };\n",
              "  });\n",
              "\n",
              "  // Wait for the user to pick the files.\n",
              "  const files = yield {\n",
              "    promise: Promise.race([pickedPromise, cancelPromise]),\n",
              "    response: {\n",
              "      action: 'starting',\n",
              "    }\n",
              "  };\n",
              "\n",
              "  cancel.remove();\n",
              "\n",
              "  // Disable the input element since further picks are not allowed.\n",
              "  inputElement.disabled = true;\n",
              "\n",
              "  if (!files) {\n",
              "    return {\n",
              "      response: {\n",
              "        action: 'complete',\n",
              "      }\n",
              "    };\n",
              "  }\n",
              "\n",
              "  for (const file of files) {\n",
              "    const li = document.createElement('li');\n",
              "    li.append(span(file.name, {fontWeight: 'bold'}));\n",
              "    li.append(span(\n",
              "        `(${file.type || 'n/a'}) - ${file.size} bytes, ` +\n",
              "        `last modified: ${\n",
              "            file.lastModifiedDate ? file.lastModifiedDate.toLocaleDateString() :\n",
              "                                    'n/a'} - `));\n",
              "    const percent = span('0% done');\n",
              "    li.appendChild(percent);\n",
              "\n",
              "    outputElement.appendChild(li);\n",
              "\n",
              "    const fileDataPromise = new Promise((resolve) => {\n",
              "      const reader = new FileReader();\n",
              "      reader.onload = (e) => {\n",
              "        resolve(e.target.result);\n",
              "      };\n",
              "      reader.readAsArrayBuffer(file);\n",
              "    });\n",
              "    // Wait for the data to be ready.\n",
              "    let fileData = yield {\n",
              "      promise: fileDataPromise,\n",
              "      response: {\n",
              "        action: 'continue',\n",
              "      }\n",
              "    };\n",
              "\n",
              "    // Use a chunked sending to avoid message size limits. See b/62115660.\n",
              "    let position = 0;\n",
              "    do {\n",
              "      const length = Math.min(fileData.byteLength - position, MAX_PAYLOAD_SIZE);\n",
              "      const chunk = new Uint8Array(fileData, position, length);\n",
              "      position += length;\n",
              "\n",
              "      const base64 = btoa(String.fromCharCode.apply(null, chunk));\n",
              "      yield {\n",
              "        response: {\n",
              "          action: 'append',\n",
              "          file: file.name,\n",
              "          data: base64,\n",
              "        },\n",
              "      };\n",
              "\n",
              "      let percentDone = fileData.byteLength === 0 ?\n",
              "          100 :\n",
              "          Math.round((position / fileData.byteLength) * 100);\n",
              "      percent.textContent = `${percentDone}% done`;\n",
              "\n",
              "    } while (position < fileData.byteLength);\n",
              "  }\n",
              "\n",
              "  // All done.\n",
              "  yield {\n",
              "    response: {\n",
              "      action: 'complete',\n",
              "    }\n",
              "  };\n",
              "}\n",
              "\n",
              "scope.google = scope.google || {};\n",
              "scope.google.colab = scope.google.colab || {};\n",
              "scope.google.colab._files = {\n",
              "  _uploadFiles,\n",
              "  _uploadFilesContinue,\n",
              "};\n",
              "})(self);\n",
              "</script> "
            ]
          },
          "metadata": {}
        },
        {
          "output_type": "stream",
          "name": "stdout",
          "text": [
            "Saving Assessment.xlsx to Assessment.xlsx\n"
          ]
        }
      ],
      "source": [
        "uploaded = files.upload()"
      ]
    },
    {
      "cell_type": "code",
      "execution_count": 27,
      "metadata": {
        "colab": {
          "base_uri": "https://localhost:8080/"
        },
        "id": "h0LzWRWG6xBT",
        "outputId": "5eaae616-2c35-4f8d-d195-2087b36b0621"
      },
      "outputs": [
        {
          "output_type": "execute_result",
          "data": {
            "text/plain": [
              "(88, 28)"
            ]
          },
          "metadata": {},
          "execution_count": 27
        }
      ],
      "source": [
        "responses = pd.read_excel('Assessment.xlsx')\n",
        "responses.shape"
      ]
    },
    {
      "cell_type": "code",
      "execution_count": 28,
      "metadata": {
        "colab": {
          "base_uri": "https://localhost:8080/",
          "height": 560
        },
        "id": "VcL-I4fC6_Wd",
        "outputId": "694d0ed8-26e3-4730-ae38-e5133c5b34dc"
      },
      "outputs": [
        {
          "output_type": "execute_result",
          "data": {
            "text/plain": [
              "                Timestamp  Score Acknowledgment  Age  Gender  \\\n",
              "0 2022-12-12 13:13:48.749      0   Yes, I Agree   18  Female   \n",
              "1 2022-12-12 13:13:58.670      0   Yes, I Agree   19  Female   \n",
              "2 2022-12-12 13:14:53.896      0   Yes, I Agree   17  Female   \n",
              "3 2022-12-12 13:15:16.523      0   Yes, I Agree   18  Female   \n",
              "4 2022-12-12 13:15:43.242      0   Yes, I Agree   21  Female   \n",
              "\n",
              "   I found it hard to wind down ( To diminish gradually in energy, intensity, or scope)  \\\n",
              "0                                                  0                                      \n",
              "1                                                  2                                      \n",
              "2                                                  0                                      \n",
              "3                                                  1                                      \n",
              "4                                                  1                                      \n",
              "\n",
              "   I was aware of dryness of my mouth    \\\n",
              "0                                     0   \n",
              "1                                     2   \n",
              "2                                     1   \n",
              "3                                     0   \n",
              "4                                     1   \n",
              "\n",
              "   I couldn’t seem to experience any positive feeling at all    \\\n",
              "0                                                  0             \n",
              "1                                                  2             \n",
              "2                                                  0             \n",
              "3                                                  1             \n",
              "4                                                  1             \n",
              "\n",
              "   I experienced breathing difficulty (eg, excessively rapid breathing, breathlessness in the absence of physical exertion)    \\\n",
              "0                                                  0                                                                            \n",
              "1                                                  2                                                                            \n",
              "2                                                  0                                                                            \n",
              "3                                                  0                                                                            \n",
              "4                                                  1                                                                            \n",
              "\n",
              "   I found it difficult to work up the initiative to do things    ...  \\\n",
              "0                                                  2              ...   \n",
              "1                                                  0              ...   \n",
              "2                                                  0              ...   \n",
              "3                                                  1              ...   \n",
              "4                                                  0              ...   \n",
              "\n",
              "   I was intolerant of anything that kept me from getting on with what I was doing   \\\n",
              "0                                                  1                                  \n",
              "1                                                  1                                  \n",
              "2                                                  0                                  \n",
              "3                                                  3                                  \n",
              "4                                                  3                                  \n",
              "\n",
              "   I felt I was close to panic   \\\n",
              "0                             1   \n",
              "1                             3   \n",
              "2                             1   \n",
              "3                             3   \n",
              "4                             2   \n",
              "\n",
              "   I was unable to become enthusiastic about anything   \\\n",
              "0                                                  0     \n",
              "1                                                  3     \n",
              "2                                                  0     \n",
              "3                                                  1     \n",
              "4                                                  1     \n",
              "\n",
              "   I felt I wasn’t worth much as a person   I felt that I was rather touchy   \\\n",
              "0                                        1                                 1   \n",
              "1                                        3                                 2   \n",
              "2                                        1                                 1   \n",
              "3                                        1                                 1   \n",
              "4                                        0                                 3   \n",
              "\n",
              "   I was aware of the action of my heart in the absence of physicalexertion (eg, sense of heart rate increase, heart missing a beat)   \\\n",
              "0                                                  0                                                                                    \n",
              "1                                                  3                                                                                    \n",
              "2                                                  2                                                                                    \n",
              "3                                                  1                                                                                    \n",
              "4                                                  2                                                                                    \n",
              "\n",
              "   I felt scared without any good reason   I felt that life was meaningless   \\\n",
              "0                                       0                                  1   \n",
              "1                                       2                                  3   \n",
              "2                                       0                                  1   \n",
              "3                                       1                                  0   \n",
              "4                                       1                                  0   \n",
              "\n",
              "                                        Upload Photo  Email Address  \n",
              "0  https://drive.google.com/open?id=1Xl0_7Y-S3MDV...            NaN  \n",
              "1  https://drive.google.com/open?id=1zS9I7xcW0heE...            NaN  \n",
              "2  https://drive.google.com/open?id=1ZdOD8MHMct93...            NaN  \n",
              "3  https://drive.google.com/open?id=1jFa4hoDh5_NR...            NaN  \n",
              "4  https://drive.google.com/open?id=1t8hdjGT4m-y-...            NaN  \n",
              "\n",
              "[5 rows x 28 columns]"
            ],
            "text/html": [
              "\n",
              "  <div id=\"df-00a5abcb-16d3-400b-900e-fe91098a5aa8\">\n",
              "    <div class=\"colab-df-container\">\n",
              "      <div>\n",
              "<style scoped>\n",
              "    .dataframe tbody tr th:only-of-type {\n",
              "        vertical-align: middle;\n",
              "    }\n",
              "\n",
              "    .dataframe tbody tr th {\n",
              "        vertical-align: top;\n",
              "    }\n",
              "\n",
              "    .dataframe thead th {\n",
              "        text-align: right;\n",
              "    }\n",
              "</style>\n",
              "<table border=\"1\" class=\"dataframe\">\n",
              "  <thead>\n",
              "    <tr style=\"text-align: right;\">\n",
              "      <th></th>\n",
              "      <th>Timestamp</th>\n",
              "      <th>Score</th>\n",
              "      <th>Acknowledgment</th>\n",
              "      <th>Age</th>\n",
              "      <th>Gender</th>\n",
              "      <th>I found it hard to wind down ( To diminish gradually in energy, intensity, or scope)</th>\n",
              "      <th>I was aware of dryness of my mouth</th>\n",
              "      <th>I couldn’t seem to experience any positive feeling at all</th>\n",
              "      <th>I experienced breathing difficulty (eg, excessively rapid breathing, breathlessness in the absence of physical exertion)</th>\n",
              "      <th>I found it difficult to work up the initiative to do things</th>\n",
              "      <th>...</th>\n",
              "      <th>I was intolerant of anything that kept me from getting on with what I was doing</th>\n",
              "      <th>I felt I was close to panic</th>\n",
              "      <th>I was unable to become enthusiastic about anything</th>\n",
              "      <th>I felt I wasn’t worth much as a person</th>\n",
              "      <th>I felt that I was rather touchy</th>\n",
              "      <th>I was aware of the action of my heart in the absence of physicalexertion (eg, sense of heart rate increase, heart missing a beat)</th>\n",
              "      <th>I felt scared without any good reason</th>\n",
              "      <th>I felt that life was meaningless</th>\n",
              "      <th>Upload Photo</th>\n",
              "      <th>Email Address</th>\n",
              "    </tr>\n",
              "  </thead>\n",
              "  <tbody>\n",
              "    <tr>\n",
              "      <th>0</th>\n",
              "      <td>2022-12-12 13:13:48.749</td>\n",
              "      <td>0</td>\n",
              "      <td>Yes, I Agree</td>\n",
              "      <td>18</td>\n",
              "      <td>Female</td>\n",
              "      <td>0</td>\n",
              "      <td>0</td>\n",
              "      <td>0</td>\n",
              "      <td>0</td>\n",
              "      <td>2</td>\n",
              "      <td>...</td>\n",
              "      <td>1</td>\n",
              "      <td>1</td>\n",
              "      <td>0</td>\n",
              "      <td>1</td>\n",
              "      <td>1</td>\n",
              "      <td>0</td>\n",
              "      <td>0</td>\n",
              "      <td>1</td>\n",
              "      <td>https://drive.google.com/open?id=1Xl0_7Y-S3MDV...</td>\n",
              "      <td>NaN</td>\n",
              "    </tr>\n",
              "    <tr>\n",
              "      <th>1</th>\n",
              "      <td>2022-12-12 13:13:58.670</td>\n",
              "      <td>0</td>\n",
              "      <td>Yes, I Agree</td>\n",
              "      <td>19</td>\n",
              "      <td>Female</td>\n",
              "      <td>2</td>\n",
              "      <td>2</td>\n",
              "      <td>2</td>\n",
              "      <td>2</td>\n",
              "      <td>0</td>\n",
              "      <td>...</td>\n",
              "      <td>1</td>\n",
              "      <td>3</td>\n",
              "      <td>3</td>\n",
              "      <td>3</td>\n",
              "      <td>2</td>\n",
              "      <td>3</td>\n",
              "      <td>2</td>\n",
              "      <td>3</td>\n",
              "      <td>https://drive.google.com/open?id=1zS9I7xcW0heE...</td>\n",
              "      <td>NaN</td>\n",
              "    </tr>\n",
              "    <tr>\n",
              "      <th>2</th>\n",
              "      <td>2022-12-12 13:14:53.896</td>\n",
              "      <td>0</td>\n",
              "      <td>Yes, I Agree</td>\n",
              "      <td>17</td>\n",
              "      <td>Female</td>\n",
              "      <td>0</td>\n",
              "      <td>1</td>\n",
              "      <td>0</td>\n",
              "      <td>0</td>\n",
              "      <td>0</td>\n",
              "      <td>...</td>\n",
              "      <td>0</td>\n",
              "      <td>1</td>\n",
              "      <td>0</td>\n",
              "      <td>1</td>\n",
              "      <td>1</td>\n",
              "      <td>2</td>\n",
              "      <td>0</td>\n",
              "      <td>1</td>\n",
              "      <td>https://drive.google.com/open?id=1ZdOD8MHMct93...</td>\n",
              "      <td>NaN</td>\n",
              "    </tr>\n",
              "    <tr>\n",
              "      <th>3</th>\n",
              "      <td>2022-12-12 13:15:16.523</td>\n",
              "      <td>0</td>\n",
              "      <td>Yes, I Agree</td>\n",
              "      <td>18</td>\n",
              "      <td>Female</td>\n",
              "      <td>1</td>\n",
              "      <td>0</td>\n",
              "      <td>1</td>\n",
              "      <td>0</td>\n",
              "      <td>1</td>\n",
              "      <td>...</td>\n",
              "      <td>3</td>\n",
              "      <td>3</td>\n",
              "      <td>1</td>\n",
              "      <td>1</td>\n",
              "      <td>1</td>\n",
              "      <td>1</td>\n",
              "      <td>1</td>\n",
              "      <td>0</td>\n",
              "      <td>https://drive.google.com/open?id=1jFa4hoDh5_NR...</td>\n",
              "      <td>NaN</td>\n",
              "    </tr>\n",
              "    <tr>\n",
              "      <th>4</th>\n",
              "      <td>2022-12-12 13:15:43.242</td>\n",
              "      <td>0</td>\n",
              "      <td>Yes, I Agree</td>\n",
              "      <td>21</td>\n",
              "      <td>Female</td>\n",
              "      <td>1</td>\n",
              "      <td>1</td>\n",
              "      <td>1</td>\n",
              "      <td>1</td>\n",
              "      <td>0</td>\n",
              "      <td>...</td>\n",
              "      <td>3</td>\n",
              "      <td>2</td>\n",
              "      <td>1</td>\n",
              "      <td>0</td>\n",
              "      <td>3</td>\n",
              "      <td>2</td>\n",
              "      <td>1</td>\n",
              "      <td>0</td>\n",
              "      <td>https://drive.google.com/open?id=1t8hdjGT4m-y-...</td>\n",
              "      <td>NaN</td>\n",
              "    </tr>\n",
              "  </tbody>\n",
              "</table>\n",
              "<p>5 rows × 28 columns</p>\n",
              "</div>\n",
              "      <button class=\"colab-df-convert\" onclick=\"convertToInteractive('df-00a5abcb-16d3-400b-900e-fe91098a5aa8')\"\n",
              "              title=\"Convert this dataframe to an interactive table.\"\n",
              "              style=\"display:none;\">\n",
              "        \n",
              "  <svg xmlns=\"http://www.w3.org/2000/svg\" height=\"24px\"viewBox=\"0 0 24 24\"\n",
              "       width=\"24px\">\n",
              "    <path d=\"M0 0h24v24H0V0z\" fill=\"none\"/>\n",
              "    <path d=\"M18.56 5.44l.94 2.06.94-2.06 2.06-.94-2.06-.94-.94-2.06-.94 2.06-2.06.94zm-11 1L8.5 8.5l.94-2.06 2.06-.94-2.06-.94L8.5 2.5l-.94 2.06-2.06.94zm10 10l.94 2.06.94-2.06 2.06-.94-2.06-.94-.94-2.06-.94 2.06-2.06.94z\"/><path d=\"M17.41 7.96l-1.37-1.37c-.4-.4-.92-.59-1.43-.59-.52 0-1.04.2-1.43.59L10.3 9.45l-7.72 7.72c-.78.78-.78 2.05 0 2.83L4 21.41c.39.39.9.59 1.41.59.51 0 1.02-.2 1.41-.59l7.78-7.78 2.81-2.81c.8-.78.8-2.07 0-2.86zM5.41 20L4 18.59l7.72-7.72 1.47 1.35L5.41 20z\"/>\n",
              "  </svg>\n",
              "      </button>\n",
              "      \n",
              "  <style>\n",
              "    .colab-df-container {\n",
              "      display:flex;\n",
              "      flex-wrap:wrap;\n",
              "      gap: 12px;\n",
              "    }\n",
              "\n",
              "    .colab-df-convert {\n",
              "      background-color: #E8F0FE;\n",
              "      border: none;\n",
              "      border-radius: 50%;\n",
              "      cursor: pointer;\n",
              "      display: none;\n",
              "      fill: #1967D2;\n",
              "      height: 32px;\n",
              "      padding: 0 0 0 0;\n",
              "      width: 32px;\n",
              "    }\n",
              "\n",
              "    .colab-df-convert:hover {\n",
              "      background-color: #E2EBFA;\n",
              "      box-shadow: 0px 1px 2px rgba(60, 64, 67, 0.3), 0px 1px 3px 1px rgba(60, 64, 67, 0.15);\n",
              "      fill: #174EA6;\n",
              "    }\n",
              "\n",
              "    [theme=dark] .colab-df-convert {\n",
              "      background-color: #3B4455;\n",
              "      fill: #D2E3FC;\n",
              "    }\n",
              "\n",
              "    [theme=dark] .colab-df-convert:hover {\n",
              "      background-color: #434B5C;\n",
              "      box-shadow: 0px 1px 3px 1px rgba(0, 0, 0, 0.15);\n",
              "      filter: drop-shadow(0px 1px 2px rgba(0, 0, 0, 0.3));\n",
              "      fill: #FFFFFF;\n",
              "    }\n",
              "  </style>\n",
              "\n",
              "      <script>\n",
              "        const buttonEl =\n",
              "          document.querySelector('#df-00a5abcb-16d3-400b-900e-fe91098a5aa8 button.colab-df-convert');\n",
              "        buttonEl.style.display =\n",
              "          google.colab.kernel.accessAllowed ? 'block' : 'none';\n",
              "\n",
              "        async function convertToInteractive(key) {\n",
              "          const element = document.querySelector('#df-00a5abcb-16d3-400b-900e-fe91098a5aa8');\n",
              "          const dataTable =\n",
              "            await google.colab.kernel.invokeFunction('convertToInteractive',\n",
              "                                                     [key], {});\n",
              "          if (!dataTable) return;\n",
              "\n",
              "          const docLinkHtml = 'Like what you see? Visit the ' +\n",
              "            '<a target=\"_blank\" href=https://colab.research.google.com/notebooks/data_table.ipynb>data table notebook</a>'\n",
              "            + ' to learn more about interactive tables.';\n",
              "          element.innerHTML = '';\n",
              "          dataTable['output_type'] = 'display_data';\n",
              "          await google.colab.output.renderOutput(dataTable, element);\n",
              "          const docLink = document.createElement('div');\n",
              "          docLink.innerHTML = docLinkHtml;\n",
              "          element.appendChild(docLink);\n",
              "        }\n",
              "      </script>\n",
              "    </div>\n",
              "  </div>\n",
              "  "
            ]
          },
          "metadata": {},
          "execution_count": 28
        }
      ],
      "source": [
        "responses.head()"
      ]
    },
    {
      "cell_type": "code",
      "execution_count": 29,
      "metadata": {
        "id": "kWvrpSQ27D4s"
      },
      "outputs": [],
      "source": [
        "df = pd.DataFrame(columns = ['age','gender','depression_score', 'anxiety_score', 'stress_score','depression','anxiety','stress','image'])"
      ]
    },
    {
      "cell_type": "code",
      "execution_count": 30,
      "metadata": {
        "id": "YQTKZQpx7q2A"
      },
      "outputs": [],
      "source": [
        "for i in responses.index:\n",
        "    age = responses.iloc[i][3]\n",
        "    gender = responses.iloc[i][4]\n",
        "    depression_score = responses.iloc[i][7] + responses.iloc[i][9] + responses.iloc[i][14] + responses.iloc[i][17] + responses.iloc[i][20] \n",
        "    + responses.iloc[i][21] + responses.iloc[i][25]\n",
        "    anxiety_score = responses.iloc[i][6] + responses.iloc[i][8] + responses.iloc[i][11] + responses.iloc[i][13] + responses.iloc[i][19] \n",
        "    + responses.iloc[i][23] + responses.iloc[i][24]\n",
        "    stress_score = responses.iloc[i][5] + responses.iloc[i][10] + responses.iloc[i][12] + responses.iloc[i][15] + responses.iloc[i][16] \n",
        "    + responses.iloc[i][18] + responses.iloc[i][22]\n",
        "    image = responses.iloc[i][26]\n",
        "    depression_score = depression_score*2\n",
        "    anxiety_score = anxiety_score*2\n",
        "    stress_score = stress_score*2\n",
        "    \n",
        "    if(depression_score>=0 and depression_score<=9):\n",
        "        depression = \"normal\"\n",
        "    elif(depression_score>=10 and depression_score<=13):\n",
        "        depression = \"mild\"\n",
        "    elif(depression_score>=14 and depression_score<=20):\n",
        "        depression =\"moderate\"\n",
        "    elif(depression_score>=21 and depression_score<=27):\n",
        "        depression = \"severe\"\n",
        "    else:\n",
        "        depression=\"extremely severe\"\n",
        "    if(anxiety_score>=0 and anxiety_score<=7):\n",
        "        anxiety = \"normal\"\n",
        "    elif(anxiety_score>=8 and anxiety_score<=9):\n",
        "        anxiety = \"mild\"\n",
        "    elif(anxiety_score>=10 and anxiety_score<=14):\n",
        "        anxiety = \"moderate\"\n",
        "    elif(anxiety_score>=15 and anxiety_score<=19):\n",
        "        anxiety = \"severe\"\n",
        "    else:\n",
        "        anxiety = \"extremely severe\"\n",
        "    if(stress_score>=0 and stress_score<=14):\n",
        "        stress = \"normal\"\n",
        "    elif(stress_score>=15 and stress_score<=18):\n",
        "        stress = \"mild\"\n",
        "    elif(stress_score>=19 and stress_score<=25):\n",
        "        stress = \"moderate\"\n",
        "    elif(stress_score>=26 and stress_score<=33):\n",
        "        stress = \"severe\"\n",
        "    else:\n",
        "        stress = \"extremely severe\"  \n",
        "    d = pd.DataFrame({\n",
        "                      'age':[age],\n",
        "                      'gender':[gender],\n",
        "                      'depression_score':[depression_score], \n",
        "                      'anxiety_score':[anxiety_score],\n",
        "                      'stress_score':[stress_score],\n",
        "                      'depression':[depression],\n",
        "                      'anxiety':[anxiety],\n",
        "                      'stress':[stress],\n",
        "                      'image':[image]\n",
        "                      })\n",
        "    \n",
        "    df = df.append(d)"
      ]
    },
    {
      "cell_type": "code",
      "execution_count": 31,
      "metadata": {
        "colab": {
          "base_uri": "https://localhost:8080/",
          "height": 206
        },
        "id": "LbrME2r787Xs",
        "outputId": "132814c2-fc9a-48bf-ef8b-e47e9096cebe"
      },
      "outputs": [
        {
          "output_type": "execute_result",
          "data": {
            "text/plain": [
              "  age  gender depression_score anxiety_score stress_score depression  \\\n",
              "0  18  Female                6             6           12     normal   \n",
              "0  19  Female               20            24           22   moderate   \n",
              "0  17  Female                0             8            4     normal   \n",
              "0  18  Female                8            18           14     normal   \n",
              "0  21  Female                6            12            8     normal   \n",
              "\n",
              "            anxiety    stress  \\\n",
              "0            normal    normal   \n",
              "0  extremely severe  moderate   \n",
              "0              mild    normal   \n",
              "0            severe    normal   \n",
              "0          moderate    normal   \n",
              "\n",
              "                                               image  \n",
              "0  https://drive.google.com/open?id=1Xl0_7Y-S3MDV...  \n",
              "0  https://drive.google.com/open?id=1zS9I7xcW0heE...  \n",
              "0  https://drive.google.com/open?id=1ZdOD8MHMct93...  \n",
              "0  https://drive.google.com/open?id=1jFa4hoDh5_NR...  \n",
              "0  https://drive.google.com/open?id=1t8hdjGT4m-y-...  "
            ],
            "text/html": [
              "\n",
              "  <div id=\"df-6e7f21e6-00be-4218-a221-a98d1ccf3090\">\n",
              "    <div class=\"colab-df-container\">\n",
              "      <div>\n",
              "<style scoped>\n",
              "    .dataframe tbody tr th:only-of-type {\n",
              "        vertical-align: middle;\n",
              "    }\n",
              "\n",
              "    .dataframe tbody tr th {\n",
              "        vertical-align: top;\n",
              "    }\n",
              "\n",
              "    .dataframe thead th {\n",
              "        text-align: right;\n",
              "    }\n",
              "</style>\n",
              "<table border=\"1\" class=\"dataframe\">\n",
              "  <thead>\n",
              "    <tr style=\"text-align: right;\">\n",
              "      <th></th>\n",
              "      <th>age</th>\n",
              "      <th>gender</th>\n",
              "      <th>depression_score</th>\n",
              "      <th>anxiety_score</th>\n",
              "      <th>stress_score</th>\n",
              "      <th>depression</th>\n",
              "      <th>anxiety</th>\n",
              "      <th>stress</th>\n",
              "      <th>image</th>\n",
              "    </tr>\n",
              "  </thead>\n",
              "  <tbody>\n",
              "    <tr>\n",
              "      <th>0</th>\n",
              "      <td>18</td>\n",
              "      <td>Female</td>\n",
              "      <td>6</td>\n",
              "      <td>6</td>\n",
              "      <td>12</td>\n",
              "      <td>normal</td>\n",
              "      <td>normal</td>\n",
              "      <td>normal</td>\n",
              "      <td>https://drive.google.com/open?id=1Xl0_7Y-S3MDV...</td>\n",
              "    </tr>\n",
              "    <tr>\n",
              "      <th>0</th>\n",
              "      <td>19</td>\n",
              "      <td>Female</td>\n",
              "      <td>20</td>\n",
              "      <td>24</td>\n",
              "      <td>22</td>\n",
              "      <td>moderate</td>\n",
              "      <td>extremely severe</td>\n",
              "      <td>moderate</td>\n",
              "      <td>https://drive.google.com/open?id=1zS9I7xcW0heE...</td>\n",
              "    </tr>\n",
              "    <tr>\n",
              "      <th>0</th>\n",
              "      <td>17</td>\n",
              "      <td>Female</td>\n",
              "      <td>0</td>\n",
              "      <td>8</td>\n",
              "      <td>4</td>\n",
              "      <td>normal</td>\n",
              "      <td>mild</td>\n",
              "      <td>normal</td>\n",
              "      <td>https://drive.google.com/open?id=1ZdOD8MHMct93...</td>\n",
              "    </tr>\n",
              "    <tr>\n",
              "      <th>0</th>\n",
              "      <td>18</td>\n",
              "      <td>Female</td>\n",
              "      <td>8</td>\n",
              "      <td>18</td>\n",
              "      <td>14</td>\n",
              "      <td>normal</td>\n",
              "      <td>severe</td>\n",
              "      <td>normal</td>\n",
              "      <td>https://drive.google.com/open?id=1jFa4hoDh5_NR...</td>\n",
              "    </tr>\n",
              "    <tr>\n",
              "      <th>0</th>\n",
              "      <td>21</td>\n",
              "      <td>Female</td>\n",
              "      <td>6</td>\n",
              "      <td>12</td>\n",
              "      <td>8</td>\n",
              "      <td>normal</td>\n",
              "      <td>moderate</td>\n",
              "      <td>normal</td>\n",
              "      <td>https://drive.google.com/open?id=1t8hdjGT4m-y-...</td>\n",
              "    </tr>\n",
              "  </tbody>\n",
              "</table>\n",
              "</div>\n",
              "      <button class=\"colab-df-convert\" onclick=\"convertToInteractive('df-6e7f21e6-00be-4218-a221-a98d1ccf3090')\"\n",
              "              title=\"Convert this dataframe to an interactive table.\"\n",
              "              style=\"display:none;\">\n",
              "        \n",
              "  <svg xmlns=\"http://www.w3.org/2000/svg\" height=\"24px\"viewBox=\"0 0 24 24\"\n",
              "       width=\"24px\">\n",
              "    <path d=\"M0 0h24v24H0V0z\" fill=\"none\"/>\n",
              "    <path d=\"M18.56 5.44l.94 2.06.94-2.06 2.06-.94-2.06-.94-.94-2.06-.94 2.06-2.06.94zm-11 1L8.5 8.5l.94-2.06 2.06-.94-2.06-.94L8.5 2.5l-.94 2.06-2.06.94zm10 10l.94 2.06.94-2.06 2.06-.94-2.06-.94-.94-2.06-.94 2.06-2.06.94z\"/><path d=\"M17.41 7.96l-1.37-1.37c-.4-.4-.92-.59-1.43-.59-.52 0-1.04.2-1.43.59L10.3 9.45l-7.72 7.72c-.78.78-.78 2.05 0 2.83L4 21.41c.39.39.9.59 1.41.59.51 0 1.02-.2 1.41-.59l7.78-7.78 2.81-2.81c.8-.78.8-2.07 0-2.86zM5.41 20L4 18.59l7.72-7.72 1.47 1.35L5.41 20z\"/>\n",
              "  </svg>\n",
              "      </button>\n",
              "      \n",
              "  <style>\n",
              "    .colab-df-container {\n",
              "      display:flex;\n",
              "      flex-wrap:wrap;\n",
              "      gap: 12px;\n",
              "    }\n",
              "\n",
              "    .colab-df-convert {\n",
              "      background-color: #E8F0FE;\n",
              "      border: none;\n",
              "      border-radius: 50%;\n",
              "      cursor: pointer;\n",
              "      display: none;\n",
              "      fill: #1967D2;\n",
              "      height: 32px;\n",
              "      padding: 0 0 0 0;\n",
              "      width: 32px;\n",
              "    }\n",
              "\n",
              "    .colab-df-convert:hover {\n",
              "      background-color: #E2EBFA;\n",
              "      box-shadow: 0px 1px 2px rgba(60, 64, 67, 0.3), 0px 1px 3px 1px rgba(60, 64, 67, 0.15);\n",
              "      fill: #174EA6;\n",
              "    }\n",
              "\n",
              "    [theme=dark] .colab-df-convert {\n",
              "      background-color: #3B4455;\n",
              "      fill: #D2E3FC;\n",
              "    }\n",
              "\n",
              "    [theme=dark] .colab-df-convert:hover {\n",
              "      background-color: #434B5C;\n",
              "      box-shadow: 0px 1px 3px 1px rgba(0, 0, 0, 0.15);\n",
              "      filter: drop-shadow(0px 1px 2px rgba(0, 0, 0, 0.3));\n",
              "      fill: #FFFFFF;\n",
              "    }\n",
              "  </style>\n",
              "\n",
              "      <script>\n",
              "        const buttonEl =\n",
              "          document.querySelector('#df-6e7f21e6-00be-4218-a221-a98d1ccf3090 button.colab-df-convert');\n",
              "        buttonEl.style.display =\n",
              "          google.colab.kernel.accessAllowed ? 'block' : 'none';\n",
              "\n",
              "        async function convertToInteractive(key) {\n",
              "          const element = document.querySelector('#df-6e7f21e6-00be-4218-a221-a98d1ccf3090');\n",
              "          const dataTable =\n",
              "            await google.colab.kernel.invokeFunction('convertToInteractive',\n",
              "                                                     [key], {});\n",
              "          if (!dataTable) return;\n",
              "\n",
              "          const docLinkHtml = 'Like what you see? Visit the ' +\n",
              "            '<a target=\"_blank\" href=https://colab.research.google.com/notebooks/data_table.ipynb>data table notebook</a>'\n",
              "            + ' to learn more about interactive tables.';\n",
              "          element.innerHTML = '';\n",
              "          dataTable['output_type'] = 'display_data';\n",
              "          await google.colab.output.renderOutput(dataTable, element);\n",
              "          const docLink = document.createElement('div');\n",
              "          docLink.innerHTML = docLinkHtml;\n",
              "          element.appendChild(docLink);\n",
              "        }\n",
              "      </script>\n",
              "    </div>\n",
              "  </div>\n",
              "  "
            ]
          },
          "metadata": {},
          "execution_count": 31
        }
      ],
      "source": [
        "df.head()"
      ]
    },
    {
      "cell_type": "code",
      "execution_count": 32,
      "metadata": {
        "id": "N1eQjbXyI6SB"
      },
      "outputs": [],
      "source": [
        "data = pd.DataFrame(columns = ['Depression','Anxiety','Stress','Age','Gender','Azimuth Angle','Baseline','Space between Words','I-dot position','Slant','Loop',\n",
        "                               'Average Size of Letters','Zone 1','Zone 2','Zone 3','Loop Sharpness'])"
      ]
    },
    {
      "cell_type": "code",
      "execution_count": 33,
      "metadata": {
        "colab": {
          "base_uri": "https://localhost:8080/",
          "height": 111
        },
        "id": "tf9SjX9gH_CJ",
        "outputId": "94e91ece-20d9-4810-e9c9-ea5c0a133c16"
      },
      "outputs": [
        {
          "output_type": "execute_result",
          "data": {
            "text/plain": [
              "Empty DataFrame\n",
              "Columns: [Depression, Anxiety, Stress, Age, Gender, Azimuth Angle, Baseline, Space between Words, I-dot position, Slant, Loop, Average Size of Letters, Zone 1, Zone 2, Zone 3, Loop Sharpness]\n",
              "Index: []"
            ],
            "text/html": [
              "\n",
              "  <div id=\"df-7628d56e-9f28-488e-b3b1-f117f0572b5c\">\n",
              "    <div class=\"colab-df-container\">\n",
              "      <div>\n",
              "<style scoped>\n",
              "    .dataframe tbody tr th:only-of-type {\n",
              "        vertical-align: middle;\n",
              "    }\n",
              "\n",
              "    .dataframe tbody tr th {\n",
              "        vertical-align: top;\n",
              "    }\n",
              "\n",
              "    .dataframe thead th {\n",
              "        text-align: right;\n",
              "    }\n",
              "</style>\n",
              "<table border=\"1\" class=\"dataframe\">\n",
              "  <thead>\n",
              "    <tr style=\"text-align: right;\">\n",
              "      <th></th>\n",
              "      <th>Depression</th>\n",
              "      <th>Anxiety</th>\n",
              "      <th>Stress</th>\n",
              "      <th>Age</th>\n",
              "      <th>Gender</th>\n",
              "      <th>Azimuth Angle</th>\n",
              "      <th>Baseline</th>\n",
              "      <th>Space between Words</th>\n",
              "      <th>I-dot position</th>\n",
              "      <th>Slant</th>\n",
              "      <th>Loop</th>\n",
              "      <th>Average Size of Letters</th>\n",
              "      <th>Zone 1</th>\n",
              "      <th>Zone 2</th>\n",
              "      <th>Zone 3</th>\n",
              "      <th>Loop Sharpness</th>\n",
              "    </tr>\n",
              "  </thead>\n",
              "  <tbody>\n",
              "  </tbody>\n",
              "</table>\n",
              "</div>\n",
              "      <button class=\"colab-df-convert\" onclick=\"convertToInteractive('df-7628d56e-9f28-488e-b3b1-f117f0572b5c')\"\n",
              "              title=\"Convert this dataframe to an interactive table.\"\n",
              "              style=\"display:none;\">\n",
              "        \n",
              "  <svg xmlns=\"http://www.w3.org/2000/svg\" height=\"24px\"viewBox=\"0 0 24 24\"\n",
              "       width=\"24px\">\n",
              "    <path d=\"M0 0h24v24H0V0z\" fill=\"none\"/>\n",
              "    <path d=\"M18.56 5.44l.94 2.06.94-2.06 2.06-.94-2.06-.94-.94-2.06-.94 2.06-2.06.94zm-11 1L8.5 8.5l.94-2.06 2.06-.94-2.06-.94L8.5 2.5l-.94 2.06-2.06.94zm10 10l.94 2.06.94-2.06 2.06-.94-2.06-.94-.94-2.06-.94 2.06-2.06.94z\"/><path d=\"M17.41 7.96l-1.37-1.37c-.4-.4-.92-.59-1.43-.59-.52 0-1.04.2-1.43.59L10.3 9.45l-7.72 7.72c-.78.78-.78 2.05 0 2.83L4 21.41c.39.39.9.59 1.41.59.51 0 1.02-.2 1.41-.59l7.78-7.78 2.81-2.81c.8-.78.8-2.07 0-2.86zM5.41 20L4 18.59l7.72-7.72 1.47 1.35L5.41 20z\"/>\n",
              "  </svg>\n",
              "      </button>\n",
              "      \n",
              "  <style>\n",
              "    .colab-df-container {\n",
              "      display:flex;\n",
              "      flex-wrap:wrap;\n",
              "      gap: 12px;\n",
              "    }\n",
              "\n",
              "    .colab-df-convert {\n",
              "      background-color: #E8F0FE;\n",
              "      border: none;\n",
              "      border-radius: 50%;\n",
              "      cursor: pointer;\n",
              "      display: none;\n",
              "      fill: #1967D2;\n",
              "      height: 32px;\n",
              "      padding: 0 0 0 0;\n",
              "      width: 32px;\n",
              "    }\n",
              "\n",
              "    .colab-df-convert:hover {\n",
              "      background-color: #E2EBFA;\n",
              "      box-shadow: 0px 1px 2px rgba(60, 64, 67, 0.3), 0px 1px 3px 1px rgba(60, 64, 67, 0.15);\n",
              "      fill: #174EA6;\n",
              "    }\n",
              "\n",
              "    [theme=dark] .colab-df-convert {\n",
              "      background-color: #3B4455;\n",
              "      fill: #D2E3FC;\n",
              "    }\n",
              "\n",
              "    [theme=dark] .colab-df-convert:hover {\n",
              "      background-color: #434B5C;\n",
              "      box-shadow: 0px 1px 3px 1px rgba(0, 0, 0, 0.15);\n",
              "      filter: drop-shadow(0px 1px 2px rgba(0, 0, 0, 0.3));\n",
              "      fill: #FFFFFF;\n",
              "    }\n",
              "  </style>\n",
              "\n",
              "      <script>\n",
              "        const buttonEl =\n",
              "          document.querySelector('#df-7628d56e-9f28-488e-b3b1-f117f0572b5c button.colab-df-convert');\n",
              "        buttonEl.style.display =\n",
              "          google.colab.kernel.accessAllowed ? 'block' : 'none';\n",
              "\n",
              "        async function convertToInteractive(key) {\n",
              "          const element = document.querySelector('#df-7628d56e-9f28-488e-b3b1-f117f0572b5c');\n",
              "          const dataTable =\n",
              "            await google.colab.kernel.invokeFunction('convertToInteractive',\n",
              "                                                     [key], {});\n",
              "          if (!dataTable) return;\n",
              "\n",
              "          const docLinkHtml = 'Like what you see? Visit the ' +\n",
              "            '<a target=\"_blank\" href=https://colab.research.google.com/notebooks/data_table.ipynb>data table notebook</a>'\n",
              "            + ' to learn more about interactive tables.';\n",
              "          element.innerHTML = '';\n",
              "          dataTable['output_type'] = 'display_data';\n",
              "          await google.colab.output.renderOutput(dataTable, element);\n",
              "          const docLink = document.createElement('div');\n",
              "          docLink.innerHTML = docLinkHtml;\n",
              "          element.appendChild(docLink);\n",
              "        }\n",
              "      </script>\n",
              "    </div>\n",
              "  </div>\n",
              "  "
            ]
          },
          "metadata": {},
          "execution_count": 33
        }
      ],
      "source": [
        "data.head()"
      ]
    },
    {
      "cell_type": "code",
      "execution_count": 34,
      "metadata": {
        "colab": {
          "base_uri": "https://localhost:8080/"
        },
        "id": "nK4zEX96BXLA",
        "outputId": "ef30c8d3-43f5-4a5b-b25a-a260401640d4"
      },
      "outputs": [
        {
          "output_type": "stream",
          "name": "stdout",
          "text": [
            "normal normal normal\n",
            "1Xl0_7Y-S3MDV7tIUFlLqVZkWzkoSvpJA\n",
            "https://docs.google.com/uc?export=download&id=1Xl0_7Y-S3MDV7tIUFlLqVZkWzkoSvpJA\n",
            "width: 4160 pixels\n",
            "height: 3120  pixels\n",
            "channels: 3\n"
          ]
        },
        {
          "output_type": "stream",
          "name": "stderr",
          "text": [
            "WARNING:easyocr.easyocr:CUDA not available - defaulting to CPU. Note: This module is much faster with a GPU.\n"
          ]
        },
        {
          "output_type": "stream",
          "name": "stdout",
          "text": [
            "moderate extremely severe moderate\n",
            "1zS9I7xcW0heE-qUYxRTchv-dGhc1bZIU\n",
            "https://docs.google.com/uc?export=download&id=1zS9I7xcW0heE-qUYxRTchv-dGhc1bZIU\n",
            "width: 4080 pixels\n",
            "height: 3072  pixels\n",
            "channels: 3\n"
          ]
        },
        {
          "output_type": "stream",
          "name": "stderr",
          "text": [
            "WARNING:easyocr.easyocr:CUDA not available - defaulting to CPU. Note: This module is much faster with a GPU.\n"
          ]
        },
        {
          "output_type": "stream",
          "name": "stdout",
          "text": [
            "normal mild normal\n",
            "1ZdOD8MHMct93qywCiK-4Dbc2X_zRWrXq\n",
            "https://docs.google.com/uc?export=download&id=1ZdOD8MHMct93qywCiK-4Dbc2X_zRWrXq\n",
            "width: 4000 pixels\n",
            "height: 1231  pixels\n",
            "channels: 3\n"
          ]
        },
        {
          "output_type": "stream",
          "name": "stderr",
          "text": [
            "WARNING:easyocr.easyocr:CUDA not available - defaulting to CPU. Note: This module is much faster with a GPU.\n"
          ]
        },
        {
          "output_type": "stream",
          "name": "stdout",
          "text": [
            "normal severe normal\n",
            "1jFa4hoDh5_NRSQVSzoKnKsZlPEqHvDgk\n",
            "https://docs.google.com/uc?export=download&id=1jFa4hoDh5_NRSQVSzoKnKsZlPEqHvDgk\n"
          ]
        },
        {
          "output_type": "stream",
          "name": "stderr",
          "text": [
            "WARNING:easyocr.easyocr:CUDA not available - defaulting to CPU. Note: This module is much faster with a GPU.\n"
          ]
        },
        {
          "output_type": "stream",
          "name": "stdout",
          "text": [
            "width: 368 pixels\n",
            "height: 361  pixels\n",
            "channels: 3\n",
            "normal moderate normal\n",
            "1t8hdjGT4m-y-HXC68481p1TLTeFM7LtE\n",
            "https://docs.google.com/uc?export=download&id=1t8hdjGT4m-y-HXC68481p1TLTeFM7LtE\n",
            "width: 4032 pixels\n",
            "height: 3024  pixels\n",
            "channels: 3\n"
          ]
        },
        {
          "output_type": "stream",
          "name": "stderr",
          "text": [
            "WARNING:easyocr.easyocr:CUDA not available - defaulting to CPU. Note: This module is much faster with a GPU.\n"
          ]
        },
        {
          "output_type": "stream",
          "name": "stdout",
          "text": [
            "normal mild normal\n",
            "1zRCTnsmIVecTg9DB45azjf8s4p7-k-ON\n",
            "https://docs.google.com/uc?export=download&id=1zRCTnsmIVecTg9DB45azjf8s4p7-k-ON\n",
            "width: 4096 pixels\n",
            "height: 3072  pixels\n",
            "channels: 3\n"
          ]
        },
        {
          "output_type": "stream",
          "name": "stderr",
          "text": [
            "WARNING:easyocr.easyocr:CUDA not available - defaulting to CPU. Note: This module is much faster with a GPU.\n"
          ]
        },
        {
          "output_type": "stream",
          "name": "stdout",
          "text": [
            "normal mild mild\n",
            "1J01AuYkDE4G8tz-1IeXz9SMlFEQEc8E2\n",
            "https://docs.google.com/uc?export=download&id=1J01AuYkDE4G8tz-1IeXz9SMlFEQEc8E2\n",
            "width: 3456 pixels\n",
            "height: 4608  pixels\n",
            "channels: 3\n"
          ]
        },
        {
          "output_type": "stream",
          "name": "stderr",
          "text": [
            "WARNING:easyocr.easyocr:CUDA not available - defaulting to CPU. Note: This module is much faster with a GPU.\n"
          ]
        },
        {
          "output_type": "stream",
          "name": "stdout",
          "text": [
            "mild severe moderate\n",
            "1CK72Rw0xPvp8U2adDQDWpkxMADJZklNF\n",
            "https://docs.google.com/uc?export=download&id=1CK72Rw0xPvp8U2adDQDWpkxMADJZklNF\n",
            "width: 4096 pixels\n",
            "height: 1251  pixels\n",
            "channels: 3\n"
          ]
        },
        {
          "output_type": "stream",
          "name": "stderr",
          "text": [
            "WARNING:easyocr.easyocr:CUDA not available - defaulting to CPU. Note: This module is much faster with a GPU.\n"
          ]
        },
        {
          "output_type": "stream",
          "name": "stdout",
          "text": [
            "normal normal normal\n",
            "18KlGUewjEAfJY5kSU--7amUaQeOyF2Fs\n",
            "https://docs.google.com/uc?export=download&id=18KlGUewjEAfJY5kSU--7amUaQeOyF2Fs\n",
            "width: 703 pixels\n",
            "height: 759  pixels\n",
            "channels: 3\n"
          ]
        },
        {
          "output_type": "stream",
          "name": "stderr",
          "text": [
            "WARNING:easyocr.easyocr:CUDA not available - defaulting to CPU. Note: This module is much faster with a GPU.\n"
          ]
        },
        {
          "output_type": "stream",
          "name": "stdout",
          "text": [
            "extremely severe extremely severe normal\n",
            "176XMu2SydP4y8s9LSdBTTairjZ4YoyZK\n",
            "https://docs.google.com/uc?export=download&id=176XMu2SydP4y8s9LSdBTTairjZ4YoyZK\n",
            "width: 4000 pixels\n",
            "height: 1011  pixels\n",
            "channels: 3\n"
          ]
        },
        {
          "output_type": "stream",
          "name": "stderr",
          "text": [
            "WARNING:easyocr.easyocr:CUDA not available - defaulting to CPU. Note: This module is much faster with a GPU.\n"
          ]
        },
        {
          "output_type": "stream",
          "name": "stdout",
          "text": [
            "moderate extremely severe severe\n",
            "1mrA_nUiuIHS-jXzxUC3DBhdgbHW__tvK\n",
            "https://docs.google.com/uc?export=download&id=1mrA_nUiuIHS-jXzxUC3DBhdgbHW__tvK\n",
            "width: 4000 pixels\n",
            "height: 3000  pixels\n",
            "channels: 3\n"
          ]
        },
        {
          "output_type": "stream",
          "name": "stderr",
          "text": [
            "WARNING:easyocr.easyocr:CUDA not available - defaulting to CPU. Note: This module is much faster with a GPU.\n"
          ]
        },
        {
          "output_type": "stream",
          "name": "stdout",
          "text": [
            "normal mild normal\n",
            "1XIgIc5wqbtnwvCbQ6CHLknzfUEfDzxSY\n",
            "https://docs.google.com/uc?export=download&id=1XIgIc5wqbtnwvCbQ6CHLknzfUEfDzxSY\n",
            "width: 3059 pixels\n",
            "height: 1277  pixels\n",
            "channels: 3\n"
          ]
        },
        {
          "output_type": "stream",
          "name": "stderr",
          "text": [
            "WARNING:easyocr.easyocr:CUDA not available - defaulting to CPU. Note: This module is much faster with a GPU.\n"
          ]
        },
        {
          "output_type": "stream",
          "name": "stdout",
          "text": [
            "normal normal normal\n",
            "1WEMKgEV7XSvuKNci1uZ2SY19-m_wCT1E\n",
            "https://docs.google.com/uc?export=download&id=1WEMKgEV7XSvuKNci1uZ2SY19-m_wCT1E\n",
            "width: 3541 pixels\n",
            "height: 1328  pixels\n",
            "channels: 3\n"
          ]
        },
        {
          "output_type": "stream",
          "name": "stderr",
          "text": [
            "WARNING:easyocr.easyocr:CUDA not available - defaulting to CPU. Note: This module is much faster with a GPU.\n"
          ]
        },
        {
          "output_type": "stream",
          "name": "stdout",
          "text": [
            "normal moderate normal\n",
            "18Jayzggp2JDHXLLiLcqgkaoNynNnBu9k\n",
            "https://docs.google.com/uc?export=download&id=18Jayzggp2JDHXLLiLcqgkaoNynNnBu9k\n",
            "width: 4000 pixels\n",
            "height: 3000  pixels\n",
            "channels: 3\n"
          ]
        },
        {
          "output_type": "stream",
          "name": "stderr",
          "text": [
            "WARNING:easyocr.easyocr:CUDA not available - defaulting to CPU. Note: This module is much faster with a GPU.\n"
          ]
        },
        {
          "output_type": "stream",
          "name": "stdout",
          "text": [
            "moderate moderate mild\n",
            "12Tq1JTAgVhWppuwngV_5PiZw5ncMVCh5\n",
            "https://docs.google.com/uc?export=download&id=12Tq1JTAgVhWppuwngV_5PiZw5ncMVCh5\n",
            "width: 4624 pixels\n",
            "height: 3468  pixels\n",
            "channels: 3\n"
          ]
        },
        {
          "output_type": "stream",
          "name": "stderr",
          "text": [
            "WARNING:easyocr.easyocr:CUDA not available - defaulting to CPU. Note: This module is much faster with a GPU.\n"
          ]
        },
        {
          "output_type": "stream",
          "name": "stdout",
          "text": [
            "normal moderate normal\n",
            "1KL0BLC30ACBBCXKysGKA2cM7g1eQPSaW\n",
            "https://docs.google.com/uc?export=download&id=1KL0BLC30ACBBCXKysGKA2cM7g1eQPSaW\n",
            "width: 3161 pixels\n",
            "height: 1144  pixels\n",
            "channels: 3\n"
          ]
        },
        {
          "output_type": "stream",
          "name": "stderr",
          "text": [
            "WARNING:easyocr.easyocr:CUDA not available - defaulting to CPU. Note: This module is much faster with a GPU.\n"
          ]
        },
        {
          "output_type": "stream",
          "name": "stdout",
          "text": [
            "moderate normal normal\n",
            "1IcgXZCQtRGOpv8GdLRNDjvzwqpZJiAVA\n",
            "https://docs.google.com/uc?export=download&id=1IcgXZCQtRGOpv8GdLRNDjvzwqpZJiAVA\n",
            "width: 4000 pixels\n",
            "height: 3000  pixels\n",
            "channels: 3\n"
          ]
        },
        {
          "output_type": "stream",
          "name": "stderr",
          "text": [
            "WARNING:easyocr.easyocr:CUDA not available - defaulting to CPU. Note: This module is much faster with a GPU.\n"
          ]
        },
        {
          "output_type": "stream",
          "name": "stdout",
          "text": [
            "severe extremely severe mild\n",
            "13yg8Md1U2UTPm4LjaAeN2nwxw8kdCed6\n",
            "https://docs.google.com/uc?export=download&id=13yg8Md1U2UTPm4LjaAeN2nwxw8kdCed6\n",
            "width: 4000 pixels\n",
            "height: 3000  pixels\n",
            "channels: 3\n"
          ]
        },
        {
          "output_type": "stream",
          "name": "stderr",
          "text": [
            "WARNING:easyocr.easyocr:CUDA not available - defaulting to CPU. Note: This module is much faster with a GPU.\n"
          ]
        },
        {
          "output_type": "stream",
          "name": "stdout",
          "text": [
            "moderate mild mild\n",
            "12zQLqAh1bMjS2EFp2YqtSzw-OIof3FvQ\n",
            "https://docs.google.com/uc?export=download&id=12zQLqAh1bMjS2EFp2YqtSzw-OIof3FvQ\n",
            "width: 2080 pixels\n",
            "height: 960  pixels\n",
            "channels: 3\n"
          ]
        },
        {
          "output_type": "stream",
          "name": "stderr",
          "text": [
            "WARNING:easyocr.easyocr:CUDA not available - defaulting to CPU. Note: This module is much faster with a GPU.\n"
          ]
        },
        {
          "output_type": "stream",
          "name": "stdout",
          "text": [
            "normal normal normal\n",
            "1LMpmoWqTq_n-iQicF36djwrUT30Cj-R9\n",
            "https://docs.google.com/uc?export=download&id=1LMpmoWqTq_n-iQicF36djwrUT30Cj-R9\n",
            "width: 3000 pixels\n",
            "height: 1111  pixels\n",
            "channels: 3\n"
          ]
        },
        {
          "output_type": "stream",
          "name": "stderr",
          "text": [
            "WARNING:easyocr.easyocr:CUDA not available - defaulting to CPU. Note: This module is much faster with a GPU.\n"
          ]
        },
        {
          "output_type": "stream",
          "name": "stdout",
          "text": [
            "normal mild normal\n",
            "1oS77QmtkL0w1S4eDjWfBltx4MhyUBs2O\n",
            "https://docs.google.com/uc?export=download&id=1oS77QmtkL0w1S4eDjWfBltx4MhyUBs2O\n",
            "width: 4000 pixels\n",
            "height: 1800  pixels\n",
            "channels: 3\n"
          ]
        },
        {
          "output_type": "stream",
          "name": "stderr",
          "text": [
            "WARNING:easyocr.easyocr:CUDA not available - defaulting to CPU. Note: This module is much faster with a GPU.\n"
          ]
        },
        {
          "output_type": "stream",
          "name": "stdout",
          "text": [
            "mild mild normal\n",
            "1nyVqGqGNbPJZH1WqB3yRd-vqpGezVdfL\n",
            "https://docs.google.com/uc?export=download&id=1nyVqGqGNbPJZH1WqB3yRd-vqpGezVdfL\n",
            "width: 2316 pixels\n",
            "height: 3088  pixels\n",
            "channels: 3\n"
          ]
        },
        {
          "output_type": "stream",
          "name": "stderr",
          "text": [
            "WARNING:easyocr.easyocr:CUDA not available - defaulting to CPU. Note: This module is much faster with a GPU.\n"
          ]
        },
        {
          "output_type": "stream",
          "name": "stdout",
          "text": [
            "mild normal normal\n",
            "1No-8YTEqpUQ6r9MHQdm2yP6aC_rGJohy\n",
            "https://docs.google.com/uc?export=download&id=1No-8YTEqpUQ6r9MHQdm2yP6aC_rGJohy\n",
            "width: 4624 pixels\n",
            "height: 2032  pixels\n",
            "channels: 3\n"
          ]
        },
        {
          "output_type": "stream",
          "name": "stderr",
          "text": [
            "WARNING:easyocr.easyocr:CUDA not available - defaulting to CPU. Note: This module is much faster with a GPU.\n"
          ]
        },
        {
          "output_type": "stream",
          "name": "stdout",
          "text": [
            "normal normal normal\n",
            "1NTjnIIrLBU_Hvoo2L6qjj_WsUDYB6UUu\n",
            "https://docs.google.com/uc?export=download&id=1NTjnIIrLBU_Hvoo2L6qjj_WsUDYB6UUu\n",
            "width: 2145 pixels\n",
            "height: 2886  pixels\n",
            "channels: 3\n"
          ]
        },
        {
          "output_type": "stream",
          "name": "stderr",
          "text": [
            "WARNING:easyocr.easyocr:CUDA not available - defaulting to CPU. Note: This module is much faster with a GPU.\n"
          ]
        },
        {
          "output_type": "stream",
          "name": "stdout",
          "text": [
            "normal mild normal\n",
            "1nTI6j7sqfbO8XaH1S73WLLL5OQQpyHcx\n",
            "https://docs.google.com/uc?export=download&id=1nTI6j7sqfbO8XaH1S73WLLL5OQQpyHcx\n",
            "width: 3000 pixels\n",
            "height: 4000  pixels\n",
            "channels: 3\n"
          ]
        },
        {
          "output_type": "stream",
          "name": "stderr",
          "text": [
            "WARNING:easyocr.easyocr:CUDA not available - defaulting to CPU. Note: This module is much faster with a GPU.\n"
          ]
        },
        {
          "output_type": "stream",
          "name": "stdout",
          "text": [
            "mild moderate normal\n",
            "1BUDLLeEfj-Ez9pxntG1ijHTI2npvDelc\n",
            "https://docs.google.com/uc?export=download&id=1BUDLLeEfj-Ez9pxntG1ijHTI2npvDelc\n",
            "width: 560 pixels\n",
            "height: 2820  pixels\n",
            "channels: 3\n"
          ]
        },
        {
          "output_type": "stream",
          "name": "stderr",
          "text": [
            "WARNING:easyocr.easyocr:CUDA not available - defaulting to CPU. Note: This module is much faster with a GPU.\n"
          ]
        },
        {
          "output_type": "stream",
          "name": "stdout",
          "text": [
            "moderate normal normal\n",
            "1rblKBTheW3FCD135ELHJPbGSKHXKYmd-\n",
            "https://docs.google.com/uc?export=download&id=1rblKBTheW3FCD135ELHJPbGSKHXKYmd-\n",
            "width: 2983 pixels\n",
            "height: 843  pixels\n",
            "channels: 3\n"
          ]
        },
        {
          "output_type": "stream",
          "name": "stderr",
          "text": [
            "WARNING:easyocr.easyocr:CUDA not available - defaulting to CPU. Note: This module is much faster with a GPU.\n"
          ]
        },
        {
          "output_type": "stream",
          "name": "stdout",
          "text": [
            "mild moderate normal\n",
            "1oujOwVxUswF6xpeKJscSRMtwqwfakiMj\n",
            "https://docs.google.com/uc?export=download&id=1oujOwVxUswF6xpeKJscSRMtwqwfakiMj\n"
          ]
        },
        {
          "output_type": "stream",
          "name": "stderr",
          "text": [
            "WARNING:easyocr.easyocr:CUDA not available - defaulting to CPU. Note: This module is much faster with a GPU.\n"
          ]
        },
        {
          "output_type": "stream",
          "name": "stdout",
          "text": [
            "width: 1125 pixels\n",
            "height: 2436  pixels\n",
            "channels: 3\n",
            "normal normal normal\n",
            "1UuZtcR3Iii1WQUzpYAZPOu02j_geY62g\n",
            "https://docs.google.com/uc?export=download&id=1UuZtcR3Iii1WQUzpYAZPOu02j_geY62g\n"
          ]
        },
        {
          "output_type": "stream",
          "name": "stderr",
          "text": [
            "WARNING:easyocr.easyocr:CUDA not available - defaulting to CPU. Note: This module is much faster with a GPU.\n"
          ]
        },
        {
          "output_type": "stream",
          "name": "stdout",
          "text": [
            "width: 300 pixels\n",
            "height: 286  pixels\n",
            "channels: 3\n",
            "mild normal normal\n",
            "1mFvfodu8yrOgg87ByMNFeC5OmKpES69w\n",
            "https://docs.google.com/uc?export=download&id=1mFvfodu8yrOgg87ByMNFeC5OmKpES69w\n",
            "width: 4000 pixels\n",
            "height: 3000  pixels\n",
            "channels: 3\n"
          ]
        },
        {
          "output_type": "stream",
          "name": "stderr",
          "text": [
            "WARNING:easyocr.easyocr:CUDA not available - defaulting to CPU. Note: This module is much faster with a GPU.\n"
          ]
        },
        {
          "output_type": "stream",
          "name": "stdout",
          "text": [
            "normal severe normal\n",
            "1KOnPTpJ19WjGKy_1HLMyuANILD0vFiW-\n",
            "https://docs.google.com/uc?export=download&id=1KOnPTpJ19WjGKy_1HLMyuANILD0vFiW-\n",
            "width: 4032 pixels\n",
            "height: 2268  pixels\n",
            "channels: 3\n"
          ]
        },
        {
          "output_type": "stream",
          "name": "stderr",
          "text": [
            "WARNING:easyocr.easyocr:CUDA not available - defaulting to CPU. Note: This module is much faster with a GPU.\n"
          ]
        },
        {
          "output_type": "stream",
          "name": "stdout",
          "text": [
            "extremely severe moderate moderate\n",
            "1lQjwVSZwIzT5NIrZ_VmQJ6EK1y31h5DE\n",
            "https://docs.google.com/uc?export=download&id=1lQjwVSZwIzT5NIrZ_VmQJ6EK1y31h5DE\n",
            "width: 3912 pixels\n",
            "height: 1382  pixels\n",
            "channels: 3\n"
          ]
        },
        {
          "output_type": "stream",
          "name": "stderr",
          "text": [
            "WARNING:easyocr.easyocr:CUDA not available - defaulting to CPU. Note: This module is much faster with a GPU.\n"
          ]
        },
        {
          "output_type": "stream",
          "name": "stdout",
          "text": [
            "normal normal normal\n",
            "1_o1WDWArbDcwjh-JwWt81oZhakN3Bz33\n",
            "https://docs.google.com/uc?export=download&id=1_o1WDWArbDcwjh-JwWt81oZhakN3Bz33\n",
            "width: 3120 pixels\n",
            "height: 3120  pixels\n",
            "channels: 3\n"
          ]
        },
        {
          "output_type": "stream",
          "name": "stderr",
          "text": [
            "WARNING:easyocr.easyocr:CUDA not available - defaulting to CPU. Note: This module is much faster with a GPU.\n"
          ]
        },
        {
          "output_type": "stream",
          "name": "stdout",
          "text": [
            "mild moderate normal\n",
            "1QSVxzcvJTPJl1aQf9vZNcb3iBnAxaoeW\n",
            "https://docs.google.com/uc?export=download&id=1QSVxzcvJTPJl1aQf9vZNcb3iBnAxaoeW\n",
            "width: 3000 pixels\n",
            "height: 4000  pixels\n",
            "channels: 3\n"
          ]
        },
        {
          "output_type": "stream",
          "name": "stderr",
          "text": [
            "WARNING:easyocr.easyocr:CUDA not available - defaulting to CPU. Note: This module is much faster with a GPU.\n"
          ]
        },
        {
          "output_type": "stream",
          "name": "stdout",
          "text": [
            "mild severe severe\n",
            "1J2mdE-rnuYFv5rFouhF_wIG7sLbMXk5U\n",
            "https://docs.google.com/uc?export=download&id=1J2mdE-rnuYFv5rFouhF_wIG7sLbMXk5U\n",
            "width: 4032 pixels\n",
            "height: 1341  pixels\n",
            "channels: 3\n"
          ]
        },
        {
          "output_type": "stream",
          "name": "stderr",
          "text": [
            "WARNING:easyocr.easyocr:CUDA not available - defaulting to CPU. Note: This module is much faster with a GPU.\n"
          ]
        },
        {
          "output_type": "stream",
          "name": "stdout",
          "text": [
            "normal mild normal\n",
            "1FNtd4c8KoZTTwAgJf2WyqtH_RNdVXBWj\n",
            "https://docs.google.com/uc?export=download&id=1FNtd4c8KoZTTwAgJf2WyqtH_RNdVXBWj\n",
            "width: 3330 pixels\n",
            "height: 1064  pixels\n",
            "channels: 3\n"
          ]
        },
        {
          "output_type": "stream",
          "name": "stderr",
          "text": [
            "WARNING:easyocr.easyocr:CUDA not available - defaulting to CPU. Note: This module is much faster with a GPU.\n"
          ]
        },
        {
          "output_type": "stream",
          "name": "stdout",
          "text": [
            "normal moderate normal\n",
            "1d9HA64ZUo9pIVxYoUjD4nvRoCpsYaCUQ\n",
            "https://docs.google.com/uc?export=download&id=1d9HA64ZUo9pIVxYoUjD4nvRoCpsYaCUQ\n",
            "width: 4000 pixels\n",
            "height: 1844  pixels\n",
            "channels: 3\n"
          ]
        },
        {
          "output_type": "stream",
          "name": "stderr",
          "text": [
            "WARNING:easyocr.easyocr:CUDA not available - defaulting to CPU. Note: This module is much faster with a GPU.\n"
          ]
        },
        {
          "output_type": "stream",
          "name": "stdout",
          "text": [
            "normal normal normal\n",
            "1C4gVAaliDogy9I693lM6u6sk4NeIIePj\n",
            "https://docs.google.com/uc?export=download&id=1C4gVAaliDogy9I693lM6u6sk4NeIIePj\n",
            "width: 2339 pixels\n",
            "height: 1381  pixels\n",
            "channels: 3\n"
          ]
        },
        {
          "output_type": "stream",
          "name": "stderr",
          "text": [
            "WARNING:easyocr.easyocr:CUDA not available - defaulting to CPU. Note: This module is much faster with a GPU.\n"
          ]
        },
        {
          "output_type": "stream",
          "name": "stdout",
          "text": [
            "mild moderate normal\n",
            "1dsttYr1U8rXAHCNIVARF_To9_yj1BoTN\n",
            "https://docs.google.com/uc?export=download&id=1dsttYr1U8rXAHCNIVARF_To9_yj1BoTN\n",
            "width: 1829 pixels\n",
            "height: 1372  pixels\n",
            "channels: 3\n"
          ]
        },
        {
          "output_type": "stream",
          "name": "stderr",
          "text": [
            "WARNING:easyocr.easyocr:CUDA not available - defaulting to CPU. Note: This module is much faster with a GPU.\n"
          ]
        },
        {
          "output_type": "stream",
          "name": "stdout",
          "text": [
            "mild severe normal\n",
            "1RK-nIeIJqqnJvdwS3uZKJZpPwoTmWPje\n",
            "https://docs.google.com/uc?export=download&id=1RK-nIeIJqqnJvdwS3uZKJZpPwoTmWPje\n",
            "width: 2572 pixels\n",
            "height: 1080  pixels\n",
            "channels: 3\n"
          ]
        },
        {
          "output_type": "stream",
          "name": "stderr",
          "text": [
            "WARNING:easyocr.easyocr:CUDA not available - defaulting to CPU. Note: This module is much faster with a GPU.\n"
          ]
        },
        {
          "output_type": "stream",
          "name": "stdout",
          "text": [
            "mild mild normal\n",
            "1mQ80uwHlMthPn3ZvegxZSJKxaZvblHRh\n",
            "https://docs.google.com/uc?export=download&id=1mQ80uwHlMthPn3ZvegxZSJKxaZvblHRh\n",
            "width: 948 pixels\n",
            "height: 2848  pixels\n",
            "channels: 3\n"
          ]
        },
        {
          "output_type": "stream",
          "name": "stderr",
          "text": [
            "WARNING:easyocr.easyocr:CUDA not available - defaulting to CPU. Note: This module is much faster with a GPU.\n"
          ]
        },
        {
          "output_type": "stream",
          "name": "stdout",
          "text": [
            "normal normal mild\n",
            "1LSGyUAaVWb88BHVJ0lyTGQbVULgMpM0z\n",
            "https://docs.google.com/uc?export=download&id=1LSGyUAaVWb88BHVJ0lyTGQbVULgMpM0z\n",
            "width: 4000 pixels\n",
            "height: 3000  pixels\n",
            "channels: 3\n"
          ]
        },
        {
          "output_type": "stream",
          "name": "stderr",
          "text": [
            "WARNING:easyocr.easyocr:CUDA not available - defaulting to CPU. Note: This module is much faster with a GPU.\n"
          ]
        },
        {
          "output_type": "stream",
          "name": "stdout",
          "text": [
            "moderate moderate normal\n",
            "1B3jKy6Zx6Fj5ERcIegXnf5UhHAIQrGt-\n",
            "https://docs.google.com/uc?export=download&id=1B3jKy6Zx6Fj5ERcIegXnf5UhHAIQrGt-\n",
            "width: 4032 pixels\n",
            "height: 3024  pixels\n",
            "channels: 3\n"
          ]
        },
        {
          "output_type": "stream",
          "name": "stderr",
          "text": [
            "WARNING:easyocr.easyocr:CUDA not available - defaulting to CPU. Note: This module is much faster with a GPU.\n"
          ]
        },
        {
          "output_type": "stream",
          "name": "stdout",
          "text": [
            "mild moderate normal\n",
            "1Ff486FxjHxi74-xvsg9Jg_u1N3lzPThJ\n",
            "https://docs.google.com/uc?export=download&id=1Ff486FxjHxi74-xvsg9Jg_u1N3lzPThJ\n",
            "width: 3032 pixels\n",
            "height: 512  pixels\n",
            "channels: 3\n"
          ]
        },
        {
          "output_type": "stream",
          "name": "stderr",
          "text": [
            "WARNING:easyocr.easyocr:CUDA not available - defaulting to CPU. Note: This module is much faster with a GPU.\n"
          ]
        },
        {
          "output_type": "stream",
          "name": "stdout",
          "text": [
            "mild normal mild\n",
            "1bn-5XTXFPGm7rJB_JGGPWFq1C_u4JorB\n",
            "https://docs.google.com/uc?export=download&id=1bn-5XTXFPGm7rJB_JGGPWFq1C_u4JorB\n",
            "width: 4608 pixels\n",
            "height: 3456  pixels\n",
            "channels: 3\n"
          ]
        },
        {
          "output_type": "stream",
          "name": "stderr",
          "text": [
            "WARNING:easyocr.easyocr:CUDA not available - defaulting to CPU. Note: This module is much faster with a GPU.\n"
          ]
        },
        {
          "output_type": "stream",
          "name": "stdout",
          "text": [
            "moderate severe normal\n",
            "1swrku94CiAPv8hi2dMdJ6Bx_WKP2UtLi\n",
            "https://docs.google.com/uc?export=download&id=1swrku94CiAPv8hi2dMdJ6Bx_WKP2UtLi\n",
            "width: 1280 pixels\n",
            "height: 660  pixels\n",
            "channels: 3\n"
          ]
        },
        {
          "output_type": "stream",
          "name": "stderr",
          "text": [
            "WARNING:easyocr.easyocr:CUDA not available - defaulting to CPU. Note: This module is much faster with a GPU.\n"
          ]
        },
        {
          "output_type": "stream",
          "name": "stdout",
          "text": [
            "moderate severe normal\n",
            "1rXHu3VlFbXxofc6x2nG5oZjX16qKUkyk\n",
            "https://docs.google.com/uc?export=download&id=1rXHu3VlFbXxofc6x2nG5oZjX16qKUkyk\n",
            "width: 4160 pixels\n",
            "height: 1920  pixels\n",
            "channels: 3\n"
          ]
        },
        {
          "output_type": "stream",
          "name": "stderr",
          "text": [
            "WARNING:easyocr.easyocr:CUDA not available - defaulting to CPU. Note: This module is much faster with a GPU.\n"
          ]
        },
        {
          "output_type": "stream",
          "name": "stdout",
          "text": [
            "mild mild normal\n",
            "1nF5a-eTfEkv4OLoG4kMhLk0O7B83ESVU\n",
            "https://docs.google.com/uc?export=download&id=1nF5a-eTfEkv4OLoG4kMhLk0O7B83ESVU\n",
            "width: 1800 pixels\n",
            "height: 4000  pixels\n",
            "channels: 3\n"
          ]
        },
        {
          "output_type": "stream",
          "name": "stderr",
          "text": [
            "WARNING:easyocr.easyocr:CUDA not available - defaulting to CPU. Note: This module is much faster with a GPU.\n"
          ]
        },
        {
          "output_type": "stream",
          "name": "stdout",
          "text": [
            "normal moderate normal\n",
            "1DcSnFmWlvQ-8-y0xSLPscT7NbkTa7Mpp\n",
            "https://docs.google.com/uc?export=download&id=1DcSnFmWlvQ-8-y0xSLPscT7NbkTa7Mpp\n",
            "width: 3351 pixels\n",
            "height: 861  pixels\n",
            "channels: 3\n"
          ]
        },
        {
          "output_type": "stream",
          "name": "stderr",
          "text": [
            "WARNING:easyocr.easyocr:CUDA not available - defaulting to CPU. Note: This module is much faster with a GPU.\n"
          ]
        },
        {
          "output_type": "stream",
          "name": "stdout",
          "text": [
            "normal moderate normal\n",
            "1dD9X0k8WNPViHkBm3DglcVXs_-tyCVhj\n",
            "https://docs.google.com/uc?export=download&id=1dD9X0k8WNPViHkBm3DglcVXs_-tyCVhj\n",
            "width: 3000 pixels\n",
            "height: 4000  pixels\n",
            "channels: 3\n"
          ]
        },
        {
          "output_type": "stream",
          "name": "stderr",
          "text": [
            "WARNING:easyocr.easyocr:CUDA not available - defaulting to CPU. Note: This module is much faster with a GPU.\n"
          ]
        },
        {
          "output_type": "stream",
          "name": "stdout",
          "text": [
            "mild moderate normal\n",
            "1wWSVHkiubKqgTwPBGtcwOczni2UbuB6v\n",
            "https://docs.google.com/uc?export=download&id=1wWSVHkiubKqgTwPBGtcwOczni2UbuB6v\n",
            "width: 2195 pixels\n",
            "height: 799  pixels\n",
            "channels: 3\n"
          ]
        },
        {
          "output_type": "stream",
          "name": "stderr",
          "text": [
            "WARNING:easyocr.easyocr:CUDA not available - defaulting to CPU. Note: This module is much faster with a GPU.\n"
          ]
        },
        {
          "output_type": "stream",
          "name": "stdout",
          "text": [
            "moderate severe mild\n",
            "1n2ZB4eNQufE-fwzGzqtxdwDZ-r0F15k9\n",
            "https://docs.google.com/uc?export=download&id=1n2ZB4eNQufE-fwzGzqtxdwDZ-r0F15k9\n",
            "width: 4032 pixels\n",
            "height: 3024  pixels\n",
            "channels: 3\n"
          ]
        },
        {
          "output_type": "stream",
          "name": "stderr",
          "text": [
            "WARNING:easyocr.easyocr:CUDA not available - defaulting to CPU. Note: This module is much faster with a GPU.\n"
          ]
        },
        {
          "output_type": "stream",
          "name": "stdout",
          "text": [
            "mild normal normal\n",
            "1HvHEKAK62G4_TORR0skk5kTR3GhwJ18m\n",
            "https://docs.google.com/uc?export=download&id=1HvHEKAK62G4_TORR0skk5kTR3GhwJ18m\n",
            "width: 3621 pixels\n",
            "height: 1099  pixels\n",
            "channels: 3\n"
          ]
        },
        {
          "output_type": "stream",
          "name": "stderr",
          "text": [
            "WARNING:easyocr.easyocr:CUDA not available - defaulting to CPU. Note: This module is much faster with a GPU.\n"
          ]
        },
        {
          "output_type": "stream",
          "name": "stdout",
          "text": [
            "normal moderate normal\n",
            "1f_MszPmJidapfMlFGm3JlABmuwXy3G2F\n",
            "https://docs.google.com/uc?export=download&id=1f_MszPmJidapfMlFGm3JlABmuwXy3G2F\n",
            "width: 4608 pixels\n",
            "height: 3456  pixels\n",
            "channels: 3\n"
          ]
        },
        {
          "output_type": "stream",
          "name": "stderr",
          "text": [
            "WARNING:easyocr.easyocr:CUDA not available - defaulting to CPU. Note: This module is much faster with a GPU.\n"
          ]
        },
        {
          "output_type": "stream",
          "name": "stdout",
          "text": [
            "mild normal normal\n",
            "1gv6eZGsCNiJRbC9XMIMgL1r32EXl2D_v\n",
            "https://docs.google.com/uc?export=download&id=1gv6eZGsCNiJRbC9XMIMgL1r32EXl2D_v\n",
            "width: 3067 pixels\n",
            "height: 912  pixels\n",
            "channels: 3\n"
          ]
        },
        {
          "output_type": "stream",
          "name": "stderr",
          "text": [
            "WARNING:easyocr.easyocr:CUDA not available - defaulting to CPU. Note: This module is much faster with a GPU.\n"
          ]
        },
        {
          "output_type": "stream",
          "name": "stdout",
          "text": [
            "normal mild normal\n",
            "1f_c8Gq0tFuOkf__O648Yqz9_qdNIltzN\n",
            "https://docs.google.com/uc?export=download&id=1f_c8Gq0tFuOkf__O648Yqz9_qdNIltzN\n",
            "width: 4000 pixels\n",
            "height: 1868  pixels\n",
            "channels: 3\n"
          ]
        },
        {
          "output_type": "stream",
          "name": "stderr",
          "text": [
            "WARNING:easyocr.easyocr:CUDA not available - defaulting to CPU. Note: This module is much faster with a GPU.\n"
          ]
        },
        {
          "output_type": "stream",
          "name": "stdout",
          "text": [
            "normal normal normal\n",
            "1oWlzpEw7Xy_YlXqoFcYInmLk30JqeyE3\n",
            "https://docs.google.com/uc?export=download&id=1oWlzpEw7Xy_YlXqoFcYInmLk30JqeyE3\n",
            "width: 4000 pixels\n",
            "height: 1800  pixels\n",
            "channels: 3\n"
          ]
        },
        {
          "output_type": "stream",
          "name": "stderr",
          "text": [
            "WARNING:easyocr.easyocr:CUDA not available - defaulting to CPU. Note: This module is much faster with a GPU.\n"
          ]
        },
        {
          "output_type": "stream",
          "name": "stdout",
          "text": [
            "moderate extremely severe severe\n",
            "1JgraozTNJXRsQWAYHKYVBy8DGt-MqBHx\n",
            "https://docs.google.com/uc?export=download&id=1JgraozTNJXRsQWAYHKYVBy8DGt-MqBHx\n",
            "width: 4000 pixels\n",
            "height: 3000  pixels\n",
            "channels: 3\n"
          ]
        },
        {
          "output_type": "stream",
          "name": "stderr",
          "text": [
            "WARNING:easyocr.easyocr:CUDA not available - defaulting to CPU. Note: This module is much faster with a GPU.\n"
          ]
        },
        {
          "output_type": "stream",
          "name": "stdout",
          "text": [
            "normal normal normal\n",
            "1CwFHA-mjvP0D6nZR5coOvHAviG49Gezj\n",
            "https://docs.google.com/uc?export=download&id=1CwFHA-mjvP0D6nZR5coOvHAviG49Gezj\n",
            "width: 1251 pixels\n",
            "height: 3134  pixels\n",
            "channels: 3\n"
          ]
        },
        {
          "output_type": "stream",
          "name": "stderr",
          "text": [
            "WARNING:easyocr.easyocr:CUDA not available - defaulting to CPU. Note: This module is much faster with a GPU.\n"
          ]
        },
        {
          "output_type": "stream",
          "name": "stdout",
          "text": [
            "normal severe normal\n",
            "1Vew8oZR7rv9U9BmXIo8HRhc41qImyuAo\n",
            "https://docs.google.com/uc?export=download&id=1Vew8oZR7rv9U9BmXIo8HRhc41qImyuAo\n",
            "width: 4160 pixels\n",
            "height: 3120  pixels\n",
            "channels: 3\n"
          ]
        },
        {
          "output_type": "stream",
          "name": "stderr",
          "text": [
            "WARNING:easyocr.easyocr:CUDA not available - defaulting to CPU. Note: This module is much faster with a GPU.\n"
          ]
        },
        {
          "output_type": "stream",
          "name": "stdout",
          "text": [
            "normal mild normal\n",
            "177v93DINBGq3PxfIRSk_whncrv8o4JG3\n",
            "https://docs.google.com/uc?export=download&id=177v93DINBGq3PxfIRSk_whncrv8o4JG3\n",
            "width: 2176 pixels\n",
            "height: 4608  pixels\n",
            "channels: 3\n"
          ]
        },
        {
          "output_type": "stream",
          "name": "stderr",
          "text": [
            "WARNING:easyocr.easyocr:CUDA not available - defaulting to CPU. Note: This module is much faster with a GPU.\n"
          ]
        },
        {
          "output_type": "stream",
          "name": "stdout",
          "text": [
            "mild normal normal\n",
            "1F_n6WZ9pgDJ5z_sJKeMOATU-za06C5Nq\n",
            "https://docs.google.com/uc?export=download&id=1F_n6WZ9pgDJ5z_sJKeMOATU-za06C5Nq\n",
            "width: 3840 pixels\n",
            "height: 2160  pixels\n",
            "channels: 3\n"
          ]
        },
        {
          "output_type": "stream",
          "name": "stderr",
          "text": [
            "WARNING:easyocr.easyocr:CUDA not available - defaulting to CPU. Note: This module is much faster with a GPU.\n"
          ]
        },
        {
          "output_type": "stream",
          "name": "stdout",
          "text": [
            "normal normal normal\n",
            "1GjxzIqbbtD-Ic09feqtao_elnfalRTW3\n",
            "https://docs.google.com/uc?export=download&id=1GjxzIqbbtD-Ic09feqtao_elnfalRTW3\n",
            "width: 1080 pixels\n",
            "height: 1416  pixels\n",
            "channels: 3\n"
          ]
        },
        {
          "output_type": "stream",
          "name": "stderr",
          "text": [
            "WARNING:easyocr.easyocr:CUDA not available - defaulting to CPU. Note: This module is much faster with a GPU.\n"
          ]
        },
        {
          "output_type": "stream",
          "name": "stdout",
          "text": [
            "moderate extremely severe severe\n",
            "16dKf6NL8xziBEjVWqfChIUhlaRgqVhin\n",
            "https://docs.google.com/uc?export=download&id=16dKf6NL8xziBEjVWqfChIUhlaRgqVhin\n",
            "width: 4624 pixels\n",
            "height: 3468  pixels\n",
            "channels: 3\n"
          ]
        },
        {
          "output_type": "stream",
          "name": "stderr",
          "text": [
            "WARNING:easyocr.easyocr:CUDA not available - defaulting to CPU. Note: This module is much faster with a GPU.\n"
          ]
        },
        {
          "output_type": "stream",
          "name": "stdout",
          "text": [
            "normal moderate mild\n",
            "1AwHA42dZcQcgr_o6FMlw9dtIVpfEq91v\n",
            "https://docs.google.com/uc?export=download&id=1AwHA42dZcQcgr_o6FMlw9dtIVpfEq91v\n",
            "width: 3360 pixels\n",
            "height: 1256  pixels\n",
            "channels: 3\n"
          ]
        },
        {
          "output_type": "stream",
          "name": "stderr",
          "text": [
            "WARNING:easyocr.easyocr:CUDA not available - defaulting to CPU. Note: This module is much faster with a GPU.\n"
          ]
        },
        {
          "output_type": "stream",
          "name": "stdout",
          "text": [
            "normal normal normal\n",
            "1ClReYEkMvmE7C4YOO82x4evwc-Ourb1N\n",
            "https://docs.google.com/uc?export=download&id=1ClReYEkMvmE7C4YOO82x4evwc-Ourb1N\n",
            "width: 4000 pixels\n",
            "height: 1800  pixels\n",
            "channels: 3\n"
          ]
        },
        {
          "output_type": "stream",
          "name": "stderr",
          "text": [
            "WARNING:easyocr.easyocr:CUDA not available - defaulting to CPU. Note: This module is much faster with a GPU.\n"
          ]
        },
        {
          "output_type": "stream",
          "name": "stdout",
          "text": [
            "normal moderate normal\n",
            "1Gn3dK9tXK8eyi3IYQFR48DamyIrBYNee\n",
            "https://docs.google.com/uc?export=download&id=1Gn3dK9tXK8eyi3IYQFR48DamyIrBYNee\n",
            "width: 1620 pixels\n",
            "height: 493  pixels\n",
            "channels: 3\n"
          ]
        },
        {
          "output_type": "stream",
          "name": "stderr",
          "text": [
            "WARNING:easyocr.easyocr:CUDA not available - defaulting to CPU. Note: This module is much faster with a GPU.\n"
          ]
        },
        {
          "output_type": "stream",
          "name": "stdout",
          "text": [
            "normal normal normal\n",
            "1z5zA9gFC3JMxWpVYonvwmXiCPwTet4wl\n",
            "https://docs.google.com/uc?export=download&id=1z5zA9gFC3JMxWpVYonvwmXiCPwTet4wl\n",
            "width: 4000 pixels\n",
            "height: 3000  pixels\n",
            "channels: 3\n"
          ]
        },
        {
          "output_type": "stream",
          "name": "stderr",
          "text": [
            "WARNING:easyocr.easyocr:CUDA not available - defaulting to CPU. Note: This module is much faster with a GPU.\n"
          ]
        },
        {
          "output_type": "stream",
          "name": "stdout",
          "text": [
            "mild severe normal\n",
            "1GnQx4IWR8C1rPeJnHnLg_l7ewKYMMYRl\n",
            "https://docs.google.com/uc?export=download&id=1GnQx4IWR8C1rPeJnHnLg_l7ewKYMMYRl\n",
            "width: 2809 pixels\n",
            "height: 959  pixels\n",
            "channels: 3\n"
          ]
        },
        {
          "output_type": "stream",
          "name": "stderr",
          "text": [
            "WARNING:easyocr.easyocr:CUDA not available - defaulting to CPU. Note: This module is much faster with a GPU.\n"
          ]
        },
        {
          "output_type": "stream",
          "name": "stdout",
          "text": [
            "moderate moderate mild\n",
            "1NYg66UlkXyhXmVHE3BC1r-uwBY5b5EdP\n",
            "https://docs.google.com/uc?export=download&id=1NYg66UlkXyhXmVHE3BC1r-uwBY5b5EdP\n",
            "width: 3000 pixels\n",
            "height: 4000  pixels\n",
            "channels: 3\n"
          ]
        },
        {
          "output_type": "stream",
          "name": "stderr",
          "text": [
            "WARNING:easyocr.easyocr:CUDA not available - defaulting to CPU. Note: This module is much faster with a GPU.\n"
          ]
        },
        {
          "output_type": "stream",
          "name": "stdout",
          "text": [
            "mild mild normal\n",
            "1dmBTHZ7pW7aU3ASTYTj5uG-LHcoyDOFi\n",
            "https://docs.google.com/uc?export=download&id=1dmBTHZ7pW7aU3ASTYTj5uG-LHcoyDOFi\n",
            "width: 3000 pixels\n",
            "height: 4000  pixels\n",
            "channels: 3\n"
          ]
        },
        {
          "output_type": "stream",
          "name": "stderr",
          "text": [
            "WARNING:easyocr.easyocr:CUDA not available - defaulting to CPU. Note: This module is much faster with a GPU.\n"
          ]
        },
        {
          "output_type": "stream",
          "name": "stdout",
          "text": [
            "normal moderate normal\n",
            "1GJ98ux_2veZT2NNjSLOinDocJg2Fn2qp\n",
            "https://docs.google.com/uc?export=download&id=1GJ98ux_2veZT2NNjSLOinDocJg2Fn2qp\n",
            "width: 4032 pixels\n",
            "height: 3024  pixels\n",
            "channels: 3\n"
          ]
        },
        {
          "output_type": "stream",
          "name": "stderr",
          "text": [
            "WARNING:easyocr.easyocr:CUDA not available - defaulting to CPU. Note: This module is much faster with a GPU.\n"
          ]
        },
        {
          "output_type": "stream",
          "name": "stdout",
          "text": [
            "normal moderate normal\n",
            "1H4lhGOLGs4-9t53UZQj8tuXrgn6E9VbL\n",
            "https://docs.google.com/uc?export=download&id=1H4lhGOLGs4-9t53UZQj8tuXrgn6E9VbL\n",
            "width: 3114 pixels\n",
            "height: 365  pixels\n",
            "channels: 3\n"
          ]
        },
        {
          "output_type": "stream",
          "name": "stderr",
          "text": [
            "WARNING:easyocr.easyocr:CUDA not available - defaulting to CPU. Note: This module is much faster with a GPU.\n"
          ]
        },
        {
          "output_type": "stream",
          "name": "stdout",
          "text": [
            "normal moderate normal\n",
            "1qZIg-b2qJ2SVX3RZlRQ3Vxv7knlGly3f\n",
            "https://docs.google.com/uc?export=download&id=1qZIg-b2qJ2SVX3RZlRQ3Vxv7knlGly3f\n",
            "width: 2004 pixels\n",
            "height: 2926  pixels\n",
            "channels: 3\n"
          ]
        },
        {
          "output_type": "stream",
          "name": "stderr",
          "text": [
            "WARNING:easyocr.easyocr:CUDA not available - defaulting to CPU. Note: This module is much faster with a GPU.\n"
          ]
        },
        {
          "output_type": "stream",
          "name": "stdout",
          "text": [
            "mild moderate normal\n",
            "1-q4HRBI7ZNvpAJeru7df19PORo3UiroS\n",
            "https://docs.google.com/uc?export=download&id=1-q4HRBI7ZNvpAJeru7df19PORo3UiroS\n",
            "width: 2565 pixels\n",
            "height: 1048  pixels\n",
            "channels: 3\n"
          ]
        },
        {
          "output_type": "stream",
          "name": "stderr",
          "text": [
            "WARNING:easyocr.easyocr:CUDA not available - defaulting to CPU. Note: This module is much faster with a GPU.\n"
          ]
        },
        {
          "output_type": "stream",
          "name": "stdout",
          "text": [
            "mild moderate normal\n",
            "18eXG4mESXm1a36C2ImzQ1U-QnCRBtK9m\n",
            "https://docs.google.com/uc?export=download&id=18eXG4mESXm1a36C2ImzQ1U-QnCRBtK9m\n",
            "width: 1167 pixels\n",
            "height: 4000  pixels\n",
            "channels: 3\n"
          ]
        },
        {
          "output_type": "stream",
          "name": "stderr",
          "text": [
            "WARNING:easyocr.easyocr:CUDA not available - defaulting to CPU. Note: This module is much faster with a GPU.\n"
          ]
        },
        {
          "output_type": "stream",
          "name": "stdout",
          "text": [
            "moderate extremely severe moderate\n",
            "1_88UOSX9hicj5fNvDJSkN_cpQaEVt40W\n",
            "https://docs.google.com/uc?export=download&id=1_88UOSX9hicj5fNvDJSkN_cpQaEVt40W\n",
            "width: 4624 pixels\n",
            "height: 3468  pixels\n",
            "channels: 3\n"
          ]
        },
        {
          "output_type": "stream",
          "name": "stderr",
          "text": [
            "WARNING:easyocr.easyocr:CUDA not available - defaulting to CPU. Note: This module is much faster with a GPU.\n"
          ]
        },
        {
          "output_type": "stream",
          "name": "stdout",
          "text": [
            "mild moderate mild\n",
            "1NAksR_hKPlAqRBFWh80WoZKvWH9CSWMd\n",
            "https://docs.google.com/uc?export=download&id=1NAksR_hKPlAqRBFWh80WoZKvWH9CSWMd\n",
            "width: 4624 pixels\n",
            "height: 3468  pixels\n",
            "channels: 3\n"
          ]
        },
        {
          "output_type": "stream",
          "name": "stderr",
          "text": [
            "WARNING:easyocr.easyocr:CUDA not available - defaulting to CPU. Note: This module is much faster with a GPU.\n"
          ]
        },
        {
          "output_type": "stream",
          "name": "stdout",
          "text": [
            "severe extremely severe mild\n",
            "1p6ko9oTnz3Ye0cdah1KoH2Gs8eYaw6Eb\n",
            "https://docs.google.com/uc?export=download&id=1p6ko9oTnz3Ye0cdah1KoH2Gs8eYaw6Eb\n",
            "width: 3472 pixels\n",
            "height: 3472  pixels\n",
            "channels: 3\n"
          ]
        },
        {
          "output_type": "stream",
          "name": "stderr",
          "text": [
            "WARNING:easyocr.easyocr:CUDA not available - defaulting to CPU. Note: This module is much faster with a GPU.\n"
          ]
        },
        {
          "output_type": "stream",
          "name": "stdout",
          "text": [
            "moderate severe mild\n",
            "1jQ-1RQU4gk983Uj2AewkQ0D35Ul9006d\n",
            "https://docs.google.com/uc?export=download&id=1jQ-1RQU4gk983Uj2AewkQ0D35Ul9006d\n",
            "width: 4624 pixels\n",
            "height: 3468  pixels\n",
            "channels: 3\n"
          ]
        },
        {
          "output_type": "stream",
          "name": "stderr",
          "text": [
            "WARNING:easyocr.easyocr:CUDA not available - defaulting to CPU. Note: This module is much faster with a GPU.\n"
          ]
        },
        {
          "output_type": "stream",
          "name": "stdout",
          "text": [
            "extremely severe severe mild\n",
            "11-NM_Zg-xPSUi4OW98gx3-dJIA9-4mGJ\n",
            "https://docs.google.com/uc?export=download&id=11-NM_Zg-xPSUi4OW98gx3-dJIA9-4mGJ\n"
          ]
        },
        {
          "output_type": "stream",
          "name": "stderr",
          "text": [
            "WARNING:easyocr.easyocr:CUDA not available - defaulting to CPU. Note: This module is much faster with a GPU.\n"
          ]
        },
        {
          "output_type": "stream",
          "name": "stdout",
          "text": [
            "width: 1280 pixels\n",
            "height: 196  pixels\n",
            "channels: 3\n",
            "severe moderate moderate\n",
            "1guAAYseIKd1gQ1ap6lt-GToEHa5fkr70\n",
            "https://docs.google.com/uc?export=download&id=1guAAYseIKd1gQ1ap6lt-GToEHa5fkr70\n",
            "width: 4032 pixels\n",
            "height: 3024  pixels\n",
            "channels: 3\n"
          ]
        },
        {
          "output_type": "stream",
          "name": "stderr",
          "text": [
            "WARNING:easyocr.easyocr:CUDA not available - defaulting to CPU. Note: This module is much faster with a GPU.\n"
          ]
        },
        {
          "output_type": "stream",
          "name": "stdout",
          "text": [
            "mild normal normal\n",
            "1dmwPvKxNUslm5sjVmivxO-AxcXdnEr4_\n",
            "https://docs.google.com/uc?export=download&id=1dmwPvKxNUslm5sjVmivxO-AxcXdnEr4_\n",
            "width: 3072 pixels\n",
            "height: 4080  pixels\n",
            "channels: 3\n"
          ]
        },
        {
          "output_type": "stream",
          "name": "stderr",
          "text": [
            "WARNING:easyocr.easyocr:CUDA not available - defaulting to CPU. Note: This module is much faster with a GPU.\n"
          ]
        },
        {
          "output_type": "stream",
          "name": "stdout",
          "text": [
            "extremely severe extremely severe severe\n",
            "1L_d6O-IB-vQbRJRM6xSZUxG7Wx2i7QvP\n",
            "https://docs.google.com/uc?export=download&id=1L_d6O-IB-vQbRJRM6xSZUxG7Wx2i7QvP\n",
            "width: 4624 pixels\n",
            "height: 3468  pixels\n",
            "channels: 3\n"
          ]
        },
        {
          "output_type": "stream",
          "name": "stderr",
          "text": [
            "WARNING:easyocr.easyocr:CUDA not available - defaulting to CPU. Note: This module is much faster with a GPU.\n"
          ]
        },
        {
          "output_type": "stream",
          "name": "stdout",
          "text": [
            "moderate severe mild\n",
            "1o3nl0Zh_pF9VC9o-tDWJZH0UoCuivLlm\n",
            "https://docs.google.com/uc?export=download&id=1o3nl0Zh_pF9VC9o-tDWJZH0UoCuivLlm\n",
            "width: 2705 pixels\n",
            "height: 1179  pixels\n",
            "channels: 3\n"
          ]
        },
        {
          "output_type": "stream",
          "name": "stderr",
          "text": [
            "WARNING:easyocr.easyocr:CUDA not available - defaulting to CPU. Note: This module is much faster with a GPU.\n"
          ]
        },
        {
          "output_type": "stream",
          "name": "stdout",
          "text": [
            "moderate severe normal\n",
            "1WubpVwnWRG8XwcDiBY3B2ENDon-zrj4U\n",
            "https://docs.google.com/uc?export=download&id=1WubpVwnWRG8XwcDiBY3B2ENDon-zrj4U\n",
            "width: 4080 pixels\n",
            "height: 1836  pixels\n",
            "channels: 3\n"
          ]
        },
        {
          "output_type": "stream",
          "name": "stderr",
          "text": [
            "WARNING:easyocr.easyocr:CUDA not available - defaulting to CPU. Note: This module is much faster with a GPU.\n"
          ]
        },
        {
          "output_type": "stream",
          "name": "stdout",
          "text": [
            "normal normal normal\n",
            "1uv15YL4goa3yRuW4XGsg1dk1CevGzOu9\n",
            "https://docs.google.com/uc?export=download&id=1uv15YL4goa3yRuW4XGsg1dk1CevGzOu9\n",
            "width: 4624 pixels\n",
            "height: 2196  pixels\n",
            "channels: 3\n"
          ]
        },
        {
          "output_type": "stream",
          "name": "stderr",
          "text": [
            "WARNING:easyocr.easyocr:CUDA not available - defaulting to CPU. Note: This module is much faster with a GPU.\n"
          ]
        },
        {
          "output_type": "stream",
          "name": "stdout",
          "text": [
            "normal mild normal\n",
            "1geOe70z-7y_Ji5ZABvENdpWf-chnciYD\n",
            "https://docs.google.com/uc?export=download&id=1geOe70z-7y_Ji5ZABvENdpWf-chnciYD\n",
            "width: 3468 pixels\n",
            "height: 4624  pixels\n",
            "channels: 3\n"
          ]
        },
        {
          "output_type": "stream",
          "name": "stderr",
          "text": [
            "WARNING:easyocr.easyocr:CUDA not available - defaulting to CPU. Note: This module is much faster with a GPU.\n"
          ]
        }
      ],
      "source": [
        "for i in range(len(df)):\n",
        "  age = df.iloc[i][0]\n",
        "  gender = df.iloc[i][1]\n",
        "  depression = df.iloc[i][5]\n",
        "  anxiety = df.iloc[i][6]\n",
        "  stress = df.iloc[i][7]\n",
        "  print(depression, anxiety, stress)\n",
        "  img = open_image(df.iloc[i][8])\n",
        "  baseline = calc_baseline(img)\n",
        "  if baseline > 80:\n",
        "    img = rotate_image(img)\n",
        "    baseline = baseline - 90\n",
        "  text = detect_text(img)\n",
        "  similarity = calc_similarity(text)\n",
        "  if similarity > 0.2:\n",
        "    crop = crop_image(img)\n",
        "    slant = calc_slant(crop)\n",
        "    azimuth_angle = calc_azimuth_angle(crop)\n",
        "    space_words = calc_space_words(crop)\n",
        "    i_dot = i_dot_position(crop)\n",
        "    loop = detect_loop(crop)\n",
        "    size_letters = calc_size_letters(crop)\n",
        "    zone_1 = calc_zone_1(crop)\n",
        "    zone_2 = calc_zone_2(crop)\n",
        "    zone_3 = calc_zone_3(crop)\n",
        "    loop_sharpness = calc_loop_sharpness(crop)\n",
        "    d = pd.DataFrame({ \n",
        "                      'Depression':[depression], \n",
        "                      'Anxiety':[anxiety],\n",
        "                      'Stress':[stress],\n",
        "                      'Age':[age],\n",
        "                      'Gender':[gender],\n",
        "                      'Azimuth Angle':[azimuth_angle],\n",
        "                      'Baseline':[baseline],\n",
        "                      'Space between Words':[space_words],\n",
        "                      'I-dot position':[i_dot],\n",
        "                      'Slant':[slant],\n",
        "                      'Loop':[loop],\n",
        "                      'Average Size of Letters':[size_letters],\n",
        "                      'Zone 1':[zone_1],\n",
        "                      'Zone 2':[zone_2],\n",
        "                      'Zone 3':[zone_3],\n",
        "                      'Loop Sharpness':[loop_sharpness]\n",
        "                      })\n",
        "    data = data.append(d, ignore_index = True)"
      ]
    },
    {
      "cell_type": "code",
      "execution_count": 35,
      "metadata": {
        "colab": {
          "base_uri": "https://localhost:8080/"
        },
        "id": "qcYiBY0Bwmky",
        "outputId": "d6037725-1252-496d-c020-1e791ba98d6e"
      },
      "outputs": [
        {
          "output_type": "execute_result",
          "data": {
            "text/plain": [
              "(71, 16)"
            ]
          },
          "metadata": {},
          "execution_count": 35
        }
      ],
      "source": [
        "data.shape"
      ]
    },
    {
      "cell_type": "code",
      "execution_count": 36,
      "metadata": {
        "colab": {
          "base_uri": "https://localhost:8080/",
          "height": 302
        },
        "id": "npvgyrFoLWiw",
        "outputId": "9b085d6b-60f8-4b27-a592-9c94b42b3814"
      },
      "outputs": [
        {
          "output_type": "execute_result",
          "data": {
            "text/plain": [
              "  Depression           Anxiety    Stress Age  Gender Azimuth Angle   Baseline  \\\n",
              "0     normal            normal    normal  18  Female           140 -41.025207   \n",
              "1   moderate  extremely severe  moderate  19  Female            20 -44.998803   \n",
              "2     normal              mild    normal  17  Female            25  -1.109084   \n",
              "3     normal          moderate    normal  21  Female            45  -0.017481   \n",
              "4     normal              mild    normal  22  Female           140 -32.121808   \n",
              "\n",
              "   Space between Words I-dot position      Slant Loop  \\\n",
              "0               212.50              0   1.615385    1   \n",
              "1                71.75              0   2.625001    1   \n",
              "2               157.25              0  -1.837500    0   \n",
              "3                 0.00              0  44.299999    1   \n",
              "4                18.75              0  -3.636363    1   \n",
              "\n",
              "   Average Size of Letters      Zone 1      Zone 2      Zone 3  Loop Sharpness  \n",
              "0              5768.267442  158.203813  143.574359  159.457436        3.937316  \n",
              "1             14850.857143  194.916758  183.546506  202.464825        3.557768  \n",
              "2             11853.160000  159.064728  145.058776  164.177896        0.000000  \n",
              "3               888.712530  140.623952  152.637596  137.874585        2.897346  \n",
              "4              2436.885697  150.209401  154.170226  131.815745        1.191699  "
            ],
            "text/html": [
              "\n",
              "  <div id=\"df-32d9d80f-b522-4db6-9181-4e0a4d858641\">\n",
              "    <div class=\"colab-df-container\">\n",
              "      <div>\n",
              "<style scoped>\n",
              "    .dataframe tbody tr th:only-of-type {\n",
              "        vertical-align: middle;\n",
              "    }\n",
              "\n",
              "    .dataframe tbody tr th {\n",
              "        vertical-align: top;\n",
              "    }\n",
              "\n",
              "    .dataframe thead th {\n",
              "        text-align: right;\n",
              "    }\n",
              "</style>\n",
              "<table border=\"1\" class=\"dataframe\">\n",
              "  <thead>\n",
              "    <tr style=\"text-align: right;\">\n",
              "      <th></th>\n",
              "      <th>Depression</th>\n",
              "      <th>Anxiety</th>\n",
              "      <th>Stress</th>\n",
              "      <th>Age</th>\n",
              "      <th>Gender</th>\n",
              "      <th>Azimuth Angle</th>\n",
              "      <th>Baseline</th>\n",
              "      <th>Space between Words</th>\n",
              "      <th>I-dot position</th>\n",
              "      <th>Slant</th>\n",
              "      <th>Loop</th>\n",
              "      <th>Average Size of Letters</th>\n",
              "      <th>Zone 1</th>\n",
              "      <th>Zone 2</th>\n",
              "      <th>Zone 3</th>\n",
              "      <th>Loop Sharpness</th>\n",
              "    </tr>\n",
              "  </thead>\n",
              "  <tbody>\n",
              "    <tr>\n",
              "      <th>0</th>\n",
              "      <td>normal</td>\n",
              "      <td>normal</td>\n",
              "      <td>normal</td>\n",
              "      <td>18</td>\n",
              "      <td>Female</td>\n",
              "      <td>140</td>\n",
              "      <td>-41.025207</td>\n",
              "      <td>212.50</td>\n",
              "      <td>0</td>\n",
              "      <td>1.615385</td>\n",
              "      <td>1</td>\n",
              "      <td>5768.267442</td>\n",
              "      <td>158.203813</td>\n",
              "      <td>143.574359</td>\n",
              "      <td>159.457436</td>\n",
              "      <td>3.937316</td>\n",
              "    </tr>\n",
              "    <tr>\n",
              "      <th>1</th>\n",
              "      <td>moderate</td>\n",
              "      <td>extremely severe</td>\n",
              "      <td>moderate</td>\n",
              "      <td>19</td>\n",
              "      <td>Female</td>\n",
              "      <td>20</td>\n",
              "      <td>-44.998803</td>\n",
              "      <td>71.75</td>\n",
              "      <td>0</td>\n",
              "      <td>2.625001</td>\n",
              "      <td>1</td>\n",
              "      <td>14850.857143</td>\n",
              "      <td>194.916758</td>\n",
              "      <td>183.546506</td>\n",
              "      <td>202.464825</td>\n",
              "      <td>3.557768</td>\n",
              "    </tr>\n",
              "    <tr>\n",
              "      <th>2</th>\n",
              "      <td>normal</td>\n",
              "      <td>mild</td>\n",
              "      <td>normal</td>\n",
              "      <td>17</td>\n",
              "      <td>Female</td>\n",
              "      <td>25</td>\n",
              "      <td>-1.109084</td>\n",
              "      <td>157.25</td>\n",
              "      <td>0</td>\n",
              "      <td>-1.837500</td>\n",
              "      <td>0</td>\n",
              "      <td>11853.160000</td>\n",
              "      <td>159.064728</td>\n",
              "      <td>145.058776</td>\n",
              "      <td>164.177896</td>\n",
              "      <td>0.000000</td>\n",
              "    </tr>\n",
              "    <tr>\n",
              "      <th>3</th>\n",
              "      <td>normal</td>\n",
              "      <td>moderate</td>\n",
              "      <td>normal</td>\n",
              "      <td>21</td>\n",
              "      <td>Female</td>\n",
              "      <td>45</td>\n",
              "      <td>-0.017481</td>\n",
              "      <td>0.00</td>\n",
              "      <td>0</td>\n",
              "      <td>44.299999</td>\n",
              "      <td>1</td>\n",
              "      <td>888.712530</td>\n",
              "      <td>140.623952</td>\n",
              "      <td>152.637596</td>\n",
              "      <td>137.874585</td>\n",
              "      <td>2.897346</td>\n",
              "    </tr>\n",
              "    <tr>\n",
              "      <th>4</th>\n",
              "      <td>normal</td>\n",
              "      <td>mild</td>\n",
              "      <td>normal</td>\n",
              "      <td>22</td>\n",
              "      <td>Female</td>\n",
              "      <td>140</td>\n",
              "      <td>-32.121808</td>\n",
              "      <td>18.75</td>\n",
              "      <td>0</td>\n",
              "      <td>-3.636363</td>\n",
              "      <td>1</td>\n",
              "      <td>2436.885697</td>\n",
              "      <td>150.209401</td>\n",
              "      <td>154.170226</td>\n",
              "      <td>131.815745</td>\n",
              "      <td>1.191699</td>\n",
              "    </tr>\n",
              "  </tbody>\n",
              "</table>\n",
              "</div>\n",
              "      <button class=\"colab-df-convert\" onclick=\"convertToInteractive('df-32d9d80f-b522-4db6-9181-4e0a4d858641')\"\n",
              "              title=\"Convert this dataframe to an interactive table.\"\n",
              "              style=\"display:none;\">\n",
              "        \n",
              "  <svg xmlns=\"http://www.w3.org/2000/svg\" height=\"24px\"viewBox=\"0 0 24 24\"\n",
              "       width=\"24px\">\n",
              "    <path d=\"M0 0h24v24H0V0z\" fill=\"none\"/>\n",
              "    <path d=\"M18.56 5.44l.94 2.06.94-2.06 2.06-.94-2.06-.94-.94-2.06-.94 2.06-2.06.94zm-11 1L8.5 8.5l.94-2.06 2.06-.94-2.06-.94L8.5 2.5l-.94 2.06-2.06.94zm10 10l.94 2.06.94-2.06 2.06-.94-2.06-.94-.94-2.06-.94 2.06-2.06.94z\"/><path d=\"M17.41 7.96l-1.37-1.37c-.4-.4-.92-.59-1.43-.59-.52 0-1.04.2-1.43.59L10.3 9.45l-7.72 7.72c-.78.78-.78 2.05 0 2.83L4 21.41c.39.39.9.59 1.41.59.51 0 1.02-.2 1.41-.59l7.78-7.78 2.81-2.81c.8-.78.8-2.07 0-2.86zM5.41 20L4 18.59l7.72-7.72 1.47 1.35L5.41 20z\"/>\n",
              "  </svg>\n",
              "      </button>\n",
              "      \n",
              "  <style>\n",
              "    .colab-df-container {\n",
              "      display:flex;\n",
              "      flex-wrap:wrap;\n",
              "      gap: 12px;\n",
              "    }\n",
              "\n",
              "    .colab-df-convert {\n",
              "      background-color: #E8F0FE;\n",
              "      border: none;\n",
              "      border-radius: 50%;\n",
              "      cursor: pointer;\n",
              "      display: none;\n",
              "      fill: #1967D2;\n",
              "      height: 32px;\n",
              "      padding: 0 0 0 0;\n",
              "      width: 32px;\n",
              "    }\n",
              "\n",
              "    .colab-df-convert:hover {\n",
              "      background-color: #E2EBFA;\n",
              "      box-shadow: 0px 1px 2px rgba(60, 64, 67, 0.3), 0px 1px 3px 1px rgba(60, 64, 67, 0.15);\n",
              "      fill: #174EA6;\n",
              "    }\n",
              "\n",
              "    [theme=dark] .colab-df-convert {\n",
              "      background-color: #3B4455;\n",
              "      fill: #D2E3FC;\n",
              "    }\n",
              "\n",
              "    [theme=dark] .colab-df-convert:hover {\n",
              "      background-color: #434B5C;\n",
              "      box-shadow: 0px 1px 3px 1px rgba(0, 0, 0, 0.15);\n",
              "      filter: drop-shadow(0px 1px 2px rgba(0, 0, 0, 0.3));\n",
              "      fill: #FFFFFF;\n",
              "    }\n",
              "  </style>\n",
              "\n",
              "      <script>\n",
              "        const buttonEl =\n",
              "          document.querySelector('#df-32d9d80f-b522-4db6-9181-4e0a4d858641 button.colab-df-convert');\n",
              "        buttonEl.style.display =\n",
              "          google.colab.kernel.accessAllowed ? 'block' : 'none';\n",
              "\n",
              "        async function convertToInteractive(key) {\n",
              "          const element = document.querySelector('#df-32d9d80f-b522-4db6-9181-4e0a4d858641');\n",
              "          const dataTable =\n",
              "            await google.colab.kernel.invokeFunction('convertToInteractive',\n",
              "                                                     [key], {});\n",
              "          if (!dataTable) return;\n",
              "\n",
              "          const docLinkHtml = 'Like what you see? Visit the ' +\n",
              "            '<a target=\"_blank\" href=https://colab.research.google.com/notebooks/data_table.ipynb>data table notebook</a>'\n",
              "            + ' to learn more about interactive tables.';\n",
              "          element.innerHTML = '';\n",
              "          dataTable['output_type'] = 'display_data';\n",
              "          await google.colab.output.renderOutput(dataTable, element);\n",
              "          const docLink = document.createElement('div');\n",
              "          docLink.innerHTML = docLinkHtml;\n",
              "          element.appendChild(docLink);\n",
              "        }\n",
              "      </script>\n",
              "    </div>\n",
              "  </div>\n",
              "  "
            ]
          },
          "metadata": {},
          "execution_count": 36
        }
      ],
      "source": [
        "data.head()"
      ]
    },
    {
      "cell_type": "code",
      "source": [
        "data.to_csv('processed_data.csv')"
      ],
      "metadata": {
        "id": "Rey5qU0VEk2V"
      },
      "execution_count": 37,
      "outputs": []
    },
    {
      "cell_type": "markdown",
      "metadata": {
        "id": "IMCfWzuB8JI-"
      },
      "source": []
    }
  ],
  "metadata": {
    "colab": {
      "provenance": [],
      "include_colab_link": true
    },
    "kernelspec": {
      "display_name": "Python 3",
      "name": "python3"
    },
    "language_info": {
      "name": "python"
    }
  },
  "nbformat": 4,
  "nbformat_minor": 0
}